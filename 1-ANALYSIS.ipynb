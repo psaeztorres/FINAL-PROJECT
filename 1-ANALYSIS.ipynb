{
 "cells": [
  {
   "cell_type": "code",
   "execution_count": 1,
   "id": "2cc03b9c",
   "metadata": {},
   "outputs": [],
   "source": [
    "import pandas as pd"
   ]
  },
  {
   "cell_type": "markdown",
   "id": "ababdc56",
   "metadata": {},
   "source": [
    "# RECOVER DATASETS SPAIN"
   ]
  },
  {
   "cell_type": "code",
   "execution_count": 76,
   "id": "e68c0b15",
   "metadata": {},
   "outputs": [],
   "source": [
    "spain_global = pd.read_csv('data/spain_global.csv')"
   ]
  },
  {
   "cell_type": "code",
   "execution_count": 77,
   "id": "ea1f8a87",
   "metadata": {},
   "outputs": [
    {
     "data": {
      "text/html": [
       "<div>\n",
       "<style scoped>\n",
       "    .dataframe tbody tr th:only-of-type {\n",
       "        vertical-align: middle;\n",
       "    }\n",
       "\n",
       "    .dataframe tbody tr th {\n",
       "        vertical-align: top;\n",
       "    }\n",
       "\n",
       "    .dataframe thead th {\n",
       "        text-align: right;\n",
       "    }\n",
       "</style>\n",
       "<table border=\"1\" class=\"dataframe\">\n",
       "  <thead>\n",
       "    <tr style=\"text-align: right;\">\n",
       "      <th></th>\n",
       "      <th>project</th>\n",
       "      <th>type</th>\n",
       "      <th>country</th>\n",
       "      <th>unit</th>\n",
       "      <th>status</th>\n",
       "      <th>capacity</th>\n",
       "      <th>start_year</th>\n",
       "      <th>owner</th>\n",
       "      <th>lat</th>\n",
       "      <th>lng</th>\n",
       "      <th>url</th>\n",
       "      <th>aacc</th>\n",
       "    </tr>\n",
       "  </thead>\n",
       "  <tbody>\n",
       "    <tr>\n",
       "      <th>0</th>\n",
       "      <td>Aboño power station</td>\n",
       "      <td>coal</td>\n",
       "      <td>Spain</td>\n",
       "      <td>Unit 1</td>\n",
       "      <td>operating</td>\n",
       "      <td>360.0</td>\n",
       "      <td>1974.0</td>\n",
       "      <td>HC Energia</td>\n",
       "      <td>43.55356</td>\n",
       "      <td>-5.72185</td>\n",
       "      <td>https://www.gem.wiki/Abo%C3%B1o_power_station</td>\n",
       "      <td>Asturias</td>\n",
       "    </tr>\n",
       "    <tr>\n",
       "      <th>1</th>\n",
       "      <td>Aboño power station</td>\n",
       "      <td>coal</td>\n",
       "      <td>Spain</td>\n",
       "      <td>Unit 2</td>\n",
       "      <td>operating</td>\n",
       "      <td>556.2</td>\n",
       "      <td>1985.0</td>\n",
       "      <td>HC Energia</td>\n",
       "      <td>43.55356</td>\n",
       "      <td>-5.72185</td>\n",
       "      <td>https://www.gem.wiki/Abo%C3%B1o_power_station</td>\n",
       "      <td>Asturias</td>\n",
       "    </tr>\n",
       "    <tr>\n",
       "      <th>2</th>\n",
       "      <td>Alcúdia power station</td>\n",
       "      <td>coal</td>\n",
       "      <td>Spain</td>\n",
       "      <td>Phase 2 Unit 1</td>\n",
       "      <td>retired</td>\n",
       "      <td>125.0</td>\n",
       "      <td>1981.0</td>\n",
       "      <td>GESA-Endesa</td>\n",
       "      <td>39.81075</td>\n",
       "      <td>3.09141</td>\n",
       "      <td>https://www.gem.wiki/Alcúdia_power_station</td>\n",
       "      <td>Baleares</td>\n",
       "    </tr>\n",
       "    <tr>\n",
       "      <th>3</th>\n",
       "      <td>Alcúdia power station</td>\n",
       "      <td>coal</td>\n",
       "      <td>Spain</td>\n",
       "      <td>Phase 2 Unit 2</td>\n",
       "      <td>retired</td>\n",
       "      <td>125.0</td>\n",
       "      <td>1982.0</td>\n",
       "      <td>GESA-Endesa</td>\n",
       "      <td>39.81075</td>\n",
       "      <td>3.09141</td>\n",
       "      <td>https://www.gem.wiki/Alcúdia_power_station</td>\n",
       "      <td>Baleares</td>\n",
       "    </tr>\n",
       "    <tr>\n",
       "      <th>4</th>\n",
       "      <td>Alcúdia power station</td>\n",
       "      <td>coal</td>\n",
       "      <td>Spain</td>\n",
       "      <td>Phase 2 Unit 3</td>\n",
       "      <td>operating</td>\n",
       "      <td>130.0</td>\n",
       "      <td>1997.0</td>\n",
       "      <td>GESA-Endesa</td>\n",
       "      <td>39.81075</td>\n",
       "      <td>3.09141</td>\n",
       "      <td>https://www.gem.wiki/Alcúdia_power_station</td>\n",
       "      <td>Baleares</td>\n",
       "    </tr>\n",
       "  </tbody>\n",
       "</table>\n",
       "</div>"
      ],
      "text/plain": [
       "                 project  type country            unit     status  capacity  \\\n",
       "0    Aboño power station  coal   Spain          Unit 1  operating     360.0   \n",
       "1    Aboño power station  coal   Spain          Unit 2  operating     556.2   \n",
       "2  Alcúdia power station  coal   Spain  Phase 2 Unit 1    retired     125.0   \n",
       "3  Alcúdia power station  coal   Spain  Phase 2 Unit 2    retired     125.0   \n",
       "4  Alcúdia power station  coal   Spain  Phase 2 Unit 3  operating     130.0   \n",
       "\n",
       "   start_year        owner       lat      lng  \\\n",
       "0      1974.0   HC Energia  43.55356 -5.72185   \n",
       "1      1985.0   HC Energia  43.55356 -5.72185   \n",
       "2      1981.0  GESA-Endesa  39.81075  3.09141   \n",
       "3      1982.0  GESA-Endesa  39.81075  3.09141   \n",
       "4      1997.0  GESA-Endesa  39.81075  3.09141   \n",
       "\n",
       "                                             url      aacc  \n",
       "0  https://www.gem.wiki/Abo%C3%B1o_power_station  Asturias  \n",
       "1  https://www.gem.wiki/Abo%C3%B1o_power_station  Asturias  \n",
       "2     https://www.gem.wiki/Alcúdia_power_station  Baleares  \n",
       "3     https://www.gem.wiki/Alcúdia_power_station  Baleares  \n",
       "4     https://www.gem.wiki/Alcúdia_power_station  Baleares  "
      ]
     },
     "execution_count": 77,
     "metadata": {},
     "output_type": "execute_result"
    }
   ],
   "source": [
    "spain_global.head()"
   ]
  },
  {
   "cell_type": "code",
   "execution_count": 78,
   "id": "2652100e",
   "metadata": {},
   "outputs": [],
   "source": [
    "gen = pd.read_csv('data/df_generated_monthly_ccaa.csv')"
   ]
  },
  {
   "cell_type": "code",
   "execution_count": 79,
   "id": "db30cbb5",
   "metadata": {},
   "outputs": [
    {
     "data": {
      "text/html": [
       "<div>\n",
       "<style scoped>\n",
       "    .dataframe tbody tr th:only-of-type {\n",
       "        vertical-align: middle;\n",
       "    }\n",
       "\n",
       "    .dataframe tbody tr th {\n",
       "        vertical-align: top;\n",
       "    }\n",
       "\n",
       "    .dataframe thead th {\n",
       "        text-align: right;\n",
       "    }\n",
       "</style>\n",
       "<table border=\"1\" class=\"dataframe\">\n",
       "  <thead>\n",
       "    <tr style=\"text-align: right;\">\n",
       "      <th></th>\n",
       "      <th>Unnamed: 0</th>\n",
       "      <th>class</th>\n",
       "      <th>type</th>\n",
       "      <th>date</th>\n",
       "      <th>value</th>\n",
       "      <th>percentage</th>\n",
       "      <th>aacc</th>\n",
       "      <th>comunidad</th>\n",
       "    </tr>\n",
       "  </thead>\n",
       "  <tbody>\n",
       "    <tr>\n",
       "      <th>0</th>\n",
       "      <td>0</td>\n",
       "      <td>Hidráulica</td>\n",
       "      <td>Renovable</td>\n",
       "      <td>2014-01-01</td>\n",
       "      <td>303.396</td>\n",
       "      <td>0.000421</td>\n",
       "      <td>8742</td>\n",
       "      <td>Canarias</td>\n",
       "    </tr>\n",
       "    <tr>\n",
       "      <th>1</th>\n",
       "      <td>1</td>\n",
       "      <td>Motores diésel</td>\n",
       "      <td>No-Renovable</td>\n",
       "      <td>2014-01-01</td>\n",
       "      <td>181768.586</td>\n",
       "      <td>0.251957</td>\n",
       "      <td>8742</td>\n",
       "      <td>Canarias</td>\n",
       "    </tr>\n",
       "    <tr>\n",
       "      <th>2</th>\n",
       "      <td>2</td>\n",
       "      <td>Turbina de gas</td>\n",
       "      <td>No-Renovable</td>\n",
       "      <td>2014-01-01</td>\n",
       "      <td>26245.404</td>\n",
       "      <td>0.036380</td>\n",
       "      <td>8742</td>\n",
       "      <td>Canarias</td>\n",
       "    </tr>\n",
       "    <tr>\n",
       "      <th>3</th>\n",
       "      <td>3</td>\n",
       "      <td>Turbina de vapor</td>\n",
       "      <td>No-Renovable</td>\n",
       "      <td>2014-01-01</td>\n",
       "      <td>216697.507</td>\n",
       "      <td>0.300373</td>\n",
       "      <td>8742</td>\n",
       "      <td>Canarias</td>\n",
       "    </tr>\n",
       "    <tr>\n",
       "      <th>4</th>\n",
       "      <td>4</td>\n",
       "      <td>Ciclo combinado</td>\n",
       "      <td>No-Renovable</td>\n",
       "      <td>2014-01-01</td>\n",
       "      <td>247173.544</td>\n",
       "      <td>0.342618</td>\n",
       "      <td>8742</td>\n",
       "      <td>Canarias</td>\n",
       "    </tr>\n",
       "  </tbody>\n",
       "</table>\n",
       "</div>"
      ],
      "text/plain": [
       "   Unnamed: 0             class          type        date       value  \\\n",
       "0           0        Hidráulica     Renovable  2014-01-01     303.396   \n",
       "1           1    Motores diésel  No-Renovable  2014-01-01  181768.586   \n",
       "2           2    Turbina de gas  No-Renovable  2014-01-01   26245.404   \n",
       "3           3  Turbina de vapor  No-Renovable  2014-01-01  216697.507   \n",
       "4           4   Ciclo combinado  No-Renovable  2014-01-01  247173.544   \n",
       "\n",
       "   percentage  aacc comunidad  \n",
       "0    0.000421  8742  Canarias  \n",
       "1    0.251957  8742  Canarias  \n",
       "2    0.036380  8742  Canarias  \n",
       "3    0.300373  8742  Canarias  \n",
       "4    0.342618  8742  Canarias  "
      ]
     },
     "execution_count": 79,
     "metadata": {},
     "output_type": "execute_result"
    }
   ],
   "source": [
    "gen.head()"
   ]
  },
  {
   "cell_type": "code",
   "execution_count": 80,
   "id": "88efa824",
   "metadata": {},
   "outputs": [],
   "source": [
    "demand = pd.read_csv('data/year_demand.csv')"
   ]
  },
  {
   "cell_type": "code",
   "execution_count": 81,
   "id": "ad8eb629",
   "metadata": {},
   "outputs": [
    {
     "data": {
      "text/html": [
       "<div>\n",
       "<style scoped>\n",
       "    .dataframe tbody tr th:only-of-type {\n",
       "        vertical-align: middle;\n",
       "    }\n",
       "\n",
       "    .dataframe tbody tr th {\n",
       "        vertical-align: top;\n",
       "    }\n",
       "\n",
       "    .dataframe thead th {\n",
       "        text-align: right;\n",
       "    }\n",
       "</style>\n",
       "<table border=\"1\" class=\"dataframe\">\n",
       "  <thead>\n",
       "    <tr style=\"text-align: right;\">\n",
       "      <th></th>\n",
       "      <th>Unnamed: 0</th>\n",
       "      <th>class</th>\n",
       "      <th>type</th>\n",
       "      <th>date</th>\n",
       "      <th>value</th>\n",
       "      <th>percentage</th>\n",
       "      <th>aacc</th>\n",
       "    </tr>\n",
       "  </thead>\n",
       "  <tbody>\n",
       "    <tr>\n",
       "      <th>0</th>\n",
       "      <td>0</td>\n",
       "      <td>Demanda</td>\n",
       "      <td>NaN</td>\n",
       "      <td>2014-01-01</td>\n",
       "      <td>721426.992</td>\n",
       "      <td>1</td>\n",
       "      <td>Canarias</td>\n",
       "    </tr>\n",
       "    <tr>\n",
       "      <th>1</th>\n",
       "      <td>1</td>\n",
       "      <td>Demanda</td>\n",
       "      <td>NaN</td>\n",
       "      <td>2014-01-01</td>\n",
       "      <td>424810.960</td>\n",
       "      <td>1</td>\n",
       "      <td>Baleares</td>\n",
       "    </tr>\n",
       "    <tr>\n",
       "      <th>2</th>\n",
       "      <td>2</td>\n",
       "      <td>Demanda</td>\n",
       "      <td>NaN</td>\n",
       "      <td>2014-01-01</td>\n",
       "      <td>18805.790</td>\n",
       "      <td>1</td>\n",
       "      <td>Ceuta</td>\n",
       "    </tr>\n",
       "    <tr>\n",
       "      <th>3</th>\n",
       "      <td>3</td>\n",
       "      <td>Demanda</td>\n",
       "      <td>NaN</td>\n",
       "      <td>2014-01-01</td>\n",
       "      <td>17999.596</td>\n",
       "      <td>1</td>\n",
       "      <td>Melilla</td>\n",
       "    </tr>\n",
       "    <tr>\n",
       "      <th>4</th>\n",
       "      <td>4</td>\n",
       "      <td>Demanda</td>\n",
       "      <td>NaN</td>\n",
       "      <td>2014-01-01</td>\n",
       "      <td>3406748.087</td>\n",
       "      <td>1</td>\n",
       "      <td>Andalucía</td>\n",
       "    </tr>\n",
       "  </tbody>\n",
       "</table>\n",
       "</div>"
      ],
      "text/plain": [
       "   Unnamed: 0    class  type        date        value  percentage       aacc\n",
       "0           0  Demanda   NaN  2014-01-01   721426.992           1   Canarias\n",
       "1           1  Demanda   NaN  2014-01-01   424810.960           1   Baleares\n",
       "2           2  Demanda   NaN  2014-01-01    18805.790           1      Ceuta\n",
       "3           3  Demanda   NaN  2014-01-01    17999.596           1    Melilla\n",
       "4           4  Demanda   NaN  2014-01-01  3406748.087           1  Andalucía"
      ]
     },
     "execution_count": 81,
     "metadata": {},
     "output_type": "execute_result"
    }
   ],
   "source": [
    "demand.head()"
   ]
  },
  {
   "cell_type": "markdown",
   "id": "3e0b163e",
   "metadata": {},
   "source": [
    "## CLEANING DATA"
   ]
  },
  {
   "cell_type": "markdown",
   "id": "aef60c17",
   "metadata": {},
   "source": [
    "#### 1- MATCH AUTONOMOUS COMMUNITIES"
   ]
  },
  {
   "cell_type": "code",
   "execution_count": 82,
   "id": "e5d0cf11",
   "metadata": {},
   "outputs": [
    {
     "data": {
      "text/html": [
       "<div>\n",
       "<style scoped>\n",
       "    .dataframe tbody tr th:only-of-type {\n",
       "        vertical-align: middle;\n",
       "    }\n",
       "\n",
       "    .dataframe tbody tr th {\n",
       "        vertical-align: top;\n",
       "    }\n",
       "\n",
       "    .dataframe thead th {\n",
       "        text-align: right;\n",
       "    }\n",
       "</style>\n",
       "<table border=\"1\" class=\"dataframe\">\n",
       "  <thead>\n",
       "    <tr style=\"text-align: right;\">\n",
       "      <th></th>\n",
       "      <th>Unnamed: 0</th>\n",
       "      <th>class</th>\n",
       "      <th>type</th>\n",
       "      <th>date</th>\n",
       "      <th>value</th>\n",
       "      <th>percentage</th>\n",
       "      <th>aacc</th>\n",
       "      <th>comunidad</th>\n",
       "    </tr>\n",
       "  </thead>\n",
       "  <tbody>\n",
       "    <tr>\n",
       "      <th>509</th>\n",
       "      <td>509</td>\n",
       "      <td>Generación total</td>\n",
       "      <td>Generación total</td>\n",
       "      <td>2016-01-01</td>\n",
       "      <td>294501.202</td>\n",
       "      <td>1.0</td>\n",
       "      <td>21</td>\n",
       "      <td>Murcia</td>\n",
       "    </tr>\n",
       "  </tbody>\n",
       "</table>\n",
       "</div>"
      ],
      "text/plain": [
       "     Unnamed: 0             class              type        date       value  \\\n",
       "509         509  Generación total  Generación total  2016-01-01  294501.202   \n",
       "\n",
       "     percentage  aacc comunidad  \n",
       "509         1.0    21    Murcia  "
      ]
     },
     "execution_count": 82,
     "metadata": {},
     "output_type": "execute_result"
    }
   ],
   "source": [
    "gen.sample()"
   ]
  },
  {
   "cell_type": "code",
   "execution_count": 83,
   "id": "490a144d",
   "metadata": {},
   "outputs": [],
   "source": [
    "gen.drop(columns = 'aacc', inplace = True)"
   ]
  },
  {
   "cell_type": "code",
   "execution_count": 84,
   "id": "bc99ab93",
   "metadata": {},
   "outputs": [
    {
     "data": {
      "text/html": [
       "<div>\n",
       "<style scoped>\n",
       "    .dataframe tbody tr th:only-of-type {\n",
       "        vertical-align: middle;\n",
       "    }\n",
       "\n",
       "    .dataframe tbody tr th {\n",
       "        vertical-align: top;\n",
       "    }\n",
       "\n",
       "    .dataframe thead th {\n",
       "        text-align: right;\n",
       "    }\n",
       "</style>\n",
       "<table border=\"1\" class=\"dataframe\">\n",
       "  <thead>\n",
       "    <tr style=\"text-align: right;\">\n",
       "      <th></th>\n",
       "      <th>Unnamed: 0</th>\n",
       "      <th>class</th>\n",
       "      <th>type</th>\n",
       "      <th>date</th>\n",
       "      <th>value</th>\n",
       "      <th>percentage</th>\n",
       "      <th>comunidad</th>\n",
       "    </tr>\n",
       "  </thead>\n",
       "  <tbody>\n",
       "    <tr>\n",
       "      <th>238</th>\n",
       "      <td>238</td>\n",
       "      <td>Generación total</td>\n",
       "      <td>Generación total</td>\n",
       "      <td>2015-01-01</td>\n",
       "      <td>2128438.872</td>\n",
       "      <td>1.0</td>\n",
       "      <td>Castilla_la_Mancha</td>\n",
       "    </tr>\n",
       "  </tbody>\n",
       "</table>\n",
       "</div>"
      ],
      "text/plain": [
       "     Unnamed: 0             class              type        date        value  \\\n",
       "238         238  Generación total  Generación total  2015-01-01  2128438.872   \n",
       "\n",
       "     percentage           comunidad  \n",
       "238         1.0  Castilla_la_Mancha  "
      ]
     },
     "execution_count": 84,
     "metadata": {},
     "output_type": "execute_result"
    }
   ],
   "source": [
    "gen.sample()"
   ]
  },
  {
   "cell_type": "code",
   "execution_count": 85,
   "id": "51b1212e",
   "metadata": {},
   "outputs": [],
   "source": [
    "demand.rename(columns={'comunidad': 'aacc'}, inplace=True)"
   ]
  },
  {
   "cell_type": "code",
   "execution_count": 86,
   "id": "31291e34",
   "metadata": {},
   "outputs": [
    {
     "data": {
      "text/html": [
       "<div>\n",
       "<style scoped>\n",
       "    .dataframe tbody tr th:only-of-type {\n",
       "        vertical-align: middle;\n",
       "    }\n",
       "\n",
       "    .dataframe tbody tr th {\n",
       "        vertical-align: top;\n",
       "    }\n",
       "\n",
       "    .dataframe thead th {\n",
       "        text-align: right;\n",
       "    }\n",
       "</style>\n",
       "<table border=\"1\" class=\"dataframe\">\n",
       "  <thead>\n",
       "    <tr style=\"text-align: right;\">\n",
       "      <th></th>\n",
       "      <th>Unnamed: 0</th>\n",
       "      <th>class</th>\n",
       "      <th>type</th>\n",
       "      <th>date</th>\n",
       "      <th>value</th>\n",
       "      <th>percentage</th>\n",
       "      <th>aacc</th>\n",
       "    </tr>\n",
       "  </thead>\n",
       "  <tbody>\n",
       "    <tr>\n",
       "      <th>165</th>\n",
       "      <td>165</td>\n",
       "      <td>Demanda</td>\n",
       "      <td>NaN</td>\n",
       "      <td>2022-01-01</td>\n",
       "      <td>448017.748</td>\n",
       "      <td>1</td>\n",
       "      <td>Navarra</td>\n",
       "    </tr>\n",
       "  </tbody>\n",
       "</table>\n",
       "</div>"
      ],
      "text/plain": [
       "     Unnamed: 0    class  type        date       value  percentage     aacc\n",
       "165         165  Demanda   NaN  2022-01-01  448017.748           1  Navarra"
      ]
     },
     "execution_count": 86,
     "metadata": {},
     "output_type": "execute_result"
    }
   ],
   "source": [
    "demand.sample()"
   ]
  },
  {
   "cell_type": "code",
   "execution_count": 87,
   "id": "ccbeaf5e",
   "metadata": {},
   "outputs": [
    {
     "data": {
      "text/html": [
       "<div>\n",
       "<style scoped>\n",
       "    .dataframe tbody tr th:only-of-type {\n",
       "        vertical-align: middle;\n",
       "    }\n",
       "\n",
       "    .dataframe tbody tr th {\n",
       "        vertical-align: top;\n",
       "    }\n",
       "\n",
       "    .dataframe thead th {\n",
       "        text-align: right;\n",
       "    }\n",
       "</style>\n",
       "<table border=\"1\" class=\"dataframe\">\n",
       "  <thead>\n",
       "    <tr style=\"text-align: right;\">\n",
       "      <th></th>\n",
       "      <th>project</th>\n",
       "      <th>type</th>\n",
       "      <th>country</th>\n",
       "      <th>unit</th>\n",
       "      <th>status</th>\n",
       "      <th>capacity</th>\n",
       "      <th>start_year</th>\n",
       "      <th>owner</th>\n",
       "      <th>lat</th>\n",
       "      <th>lng</th>\n",
       "      <th>url</th>\n",
       "      <th>aacc</th>\n",
       "    </tr>\n",
       "  </thead>\n",
       "  <tbody>\n",
       "    <tr>\n",
       "      <th>2438</th>\n",
       "      <td>Plans D'Estaras wind farm</td>\n",
       "      <td>wind</td>\n",
       "      <td>Spain</td>\n",
       "      <td>NaN</td>\n",
       "      <td>pre-construction</td>\n",
       "      <td>50.0</td>\n",
       "      <td>NaN</td>\n",
       "      <td>NaN</td>\n",
       "      <td>41.6918</td>\n",
       "      <td>1.3781</td>\n",
       "      <td>https://gem.wiki/Plans_D'Estaras_wind_farm</td>\n",
       "      <td>Cataluña</td>\n",
       "    </tr>\n",
       "  </tbody>\n",
       "</table>\n",
       "</div>"
      ],
      "text/plain": [
       "                        project  type country unit            status  \\\n",
       "2438  Plans D'Estaras wind farm  wind   Spain  NaN  pre-construction   \n",
       "\n",
       "      capacity  start_year owner      lat     lng  \\\n",
       "2438      50.0         NaN   NaN  41.6918  1.3781   \n",
       "\n",
       "                                             url      aacc  \n",
       "2438  https://gem.wiki/Plans_D'Estaras_wind_farm  Cataluña  "
      ]
     },
     "execution_count": 87,
     "metadata": {},
     "output_type": "execute_result"
    }
   ],
   "source": [
    "spain_global.sample()"
   ]
  },
  {
   "cell_type": "code",
   "execution_count": 88,
   "id": "a89f49a5",
   "metadata": {},
   "outputs": [],
   "source": [
    "spain_global.rename(columns={'ccaa':'aacc'}, inplace = True)"
   ]
  },
  {
   "cell_type": "code",
   "execution_count": 89,
   "id": "5044c846",
   "metadata": {},
   "outputs": [
    {
     "data": {
      "text/html": [
       "<div>\n",
       "<style scoped>\n",
       "    .dataframe tbody tr th:only-of-type {\n",
       "        vertical-align: middle;\n",
       "    }\n",
       "\n",
       "    .dataframe tbody tr th {\n",
       "        vertical-align: top;\n",
       "    }\n",
       "\n",
       "    .dataframe thead th {\n",
       "        text-align: right;\n",
       "    }\n",
       "</style>\n",
       "<table border=\"1\" class=\"dataframe\">\n",
       "  <thead>\n",
       "    <tr style=\"text-align: right;\">\n",
       "      <th></th>\n",
       "      <th>project</th>\n",
       "      <th>type</th>\n",
       "      <th>country</th>\n",
       "      <th>unit</th>\n",
       "      <th>status</th>\n",
       "      <th>capacity</th>\n",
       "      <th>start_year</th>\n",
       "      <th>owner</th>\n",
       "      <th>lat</th>\n",
       "      <th>lng</th>\n",
       "      <th>url</th>\n",
       "      <th>aacc</th>\n",
       "    </tr>\n",
       "  </thead>\n",
       "  <tbody>\n",
       "    <tr>\n",
       "      <th>1670</th>\n",
       "      <td>El Coto wind farm</td>\n",
       "      <td>wind</td>\n",
       "      <td>Spain</td>\n",
       "      <td>NaN</td>\n",
       "      <td>operating</td>\n",
       "      <td>20.0</td>\n",
       "      <td>NaN</td>\n",
       "      <td>NaN</td>\n",
       "      <td>41.3787</td>\n",
       "      <td>-0.7639</td>\n",
       "      <td>https://gem.wiki/El_Coto_wind_farm</td>\n",
       "      <td>Aragon</td>\n",
       "    </tr>\n",
       "  </tbody>\n",
       "</table>\n",
       "</div>"
      ],
      "text/plain": [
       "                project  type country unit     status  capacity  start_year  \\\n",
       "1670  El Coto wind farm  wind   Spain  NaN  operating      20.0         NaN   \n",
       "\n",
       "     owner      lat     lng                                 url    aacc  \n",
       "1670   NaN  41.3787 -0.7639  https://gem.wiki/El_Coto_wind_farm  Aragon  "
      ]
     },
     "execution_count": 89,
     "metadata": {},
     "output_type": "execute_result"
    }
   ],
   "source": [
    "spain_global.sample()"
   ]
  },
  {
   "cell_type": "code",
   "execution_count": 90,
   "id": "3057d6d6",
   "metadata": {},
   "outputs": [
    {
     "data": {
      "text/html": [
       "<div>\n",
       "<style scoped>\n",
       "    .dataframe tbody tr th:only-of-type {\n",
       "        vertical-align: middle;\n",
       "    }\n",
       "\n",
       "    .dataframe tbody tr th {\n",
       "        vertical-align: top;\n",
       "    }\n",
       "\n",
       "    .dataframe thead th {\n",
       "        text-align: right;\n",
       "    }\n",
       "</style>\n",
       "<table border=\"1\" class=\"dataframe\">\n",
       "  <thead>\n",
       "    <tr style=\"text-align: right;\">\n",
       "      <th></th>\n",
       "      <th>Unnamed: 0</th>\n",
       "      <th>class</th>\n",
       "      <th>type</th>\n",
       "      <th>date</th>\n",
       "      <th>value</th>\n",
       "      <th>percentage</th>\n",
       "      <th>comunidad</th>\n",
       "    </tr>\n",
       "  </thead>\n",
       "  <tbody>\n",
       "    <tr>\n",
       "      <th>424</th>\n",
       "      <td>424</td>\n",
       "      <td>Solar fotovoltaica</td>\n",
       "      <td>Renovable</td>\n",
       "      <td>2016-01-01</td>\n",
       "      <td>19332.045</td>\n",
       "      <td>0.005053</td>\n",
       "      <td>Cataluña</td>\n",
       "    </tr>\n",
       "  </tbody>\n",
       "</table>\n",
       "</div>"
      ],
      "text/plain": [
       "     Unnamed: 0               class       type        date      value  \\\n",
       "424         424  Solar fotovoltaica  Renovable  2016-01-01  19332.045   \n",
       "\n",
       "     percentage comunidad  \n",
       "424    0.005053  Cataluña  "
      ]
     },
     "execution_count": 90,
     "metadata": {},
     "output_type": "execute_result"
    }
   ],
   "source": [
    "gen.sample()"
   ]
  },
  {
   "cell_type": "code",
   "execution_count": 91,
   "id": "a1d07ac5",
   "metadata": {},
   "outputs": [],
   "source": [
    "gen.rename(columns={\"comunidad\":'aacc'}, inplace = True)"
   ]
  },
  {
   "cell_type": "code",
   "execution_count": 92,
   "id": "35046c26",
   "metadata": {},
   "outputs": [
    {
     "data": {
      "text/html": [
       "<div>\n",
       "<style scoped>\n",
       "    .dataframe tbody tr th:only-of-type {\n",
       "        vertical-align: middle;\n",
       "    }\n",
       "\n",
       "    .dataframe tbody tr th {\n",
       "        vertical-align: top;\n",
       "    }\n",
       "\n",
       "    .dataframe thead th {\n",
       "        text-align: right;\n",
       "    }\n",
       "</style>\n",
       "<table border=\"1\" class=\"dataframe\">\n",
       "  <thead>\n",
       "    <tr style=\"text-align: right;\">\n",
       "      <th></th>\n",
       "      <th>Unnamed: 0</th>\n",
       "      <th>class</th>\n",
       "      <th>type</th>\n",
       "      <th>date</th>\n",
       "      <th>value</th>\n",
       "      <th>percentage</th>\n",
       "      <th>aacc</th>\n",
       "    </tr>\n",
       "  </thead>\n",
       "  <tbody>\n",
       "    <tr>\n",
       "      <th>563</th>\n",
       "      <td>563</td>\n",
       "      <td>Eólica</td>\n",
       "      <td>Renovable</td>\n",
       "      <td>2017-01-01</td>\n",
       "      <td>7822.318</td>\n",
       "      <td>0.044496</td>\n",
       "      <td>Cantabria</td>\n",
       "    </tr>\n",
       "  </tbody>\n",
       "</table>\n",
       "</div>"
      ],
      "text/plain": [
       "     Unnamed: 0   class       type        date     value  percentage  \\\n",
       "563         563  Eólica  Renovable  2017-01-01  7822.318    0.044496   \n",
       "\n",
       "          aacc  \n",
       "563  Cantabria  "
      ]
     },
     "execution_count": 92,
     "metadata": {},
     "output_type": "execute_result"
    }
   ],
   "source": [
    "gen.sample()"
   ]
  },
  {
   "cell_type": "code",
   "execution_count": 97,
   "id": "9eff8014",
   "metadata": {},
   "outputs": [
    {
     "data": {
      "text/plain": [
       "array(['Canarias', 'Baleares', 'Ceuta', 'Melilla', 'Andalucía', 'Aragón',\n",
       "       'Cantabria', 'Castilla_la_Mancha', 'Castilla_León', 'Cataluña',\n",
       "       'País_Vasco', 'Asturias', 'Madrid', 'Navarra', 'Valenciana',\n",
       "       'Extremadura', 'Galicia', 'La_Rioja', 'Murcia'], dtype=object)"
      ]
     },
     "execution_count": 97,
     "metadata": {},
     "output_type": "execute_result"
    }
   ],
   "source": [
    "gen['aacc'].unique()"
   ]
  },
  {
   "cell_type": "code",
   "execution_count": 98,
   "id": "e46ce3ad",
   "metadata": {},
   "outputs": [
    {
     "data": {
      "text/plain": [
       "array(['Canarias', 'Baleares', 'Ceuta', 'Melilla', 'Andalucía', 'Aragón',\n",
       "       'Cantabria', 'Castilla_la_Mancha', 'Castilla_León', 'Cataluña',\n",
       "       'País_Vasco', 'Asturias', 'Madrid', 'Navarra', 'Valenciana',\n",
       "       'Extremadura', 'Galicia', 'La_Rioja', 'Murcia'], dtype=object)"
      ]
     },
     "execution_count": 98,
     "metadata": {},
     "output_type": "execute_result"
    }
   ],
   "source": [
    "demand['aacc'].unique()"
   ]
  },
  {
   "cell_type": "code",
   "execution_count": 99,
   "id": "c35d2077",
   "metadata": {},
   "outputs": [
    {
     "data": {
      "text/plain": [
       "array(['Asturias', 'Baleares', 'Castilla-Leon', 'Galicia', 'Andalucia',\n",
       "       'Cataluña', 'Cantabria', 'Aragon', 'Pais Vasco',\n",
       "       'Castilla-La Mancha', 'La Rioja', nan, 'Canarias', 'Murcia',\n",
       "       'Navarra', 'Valencia', 'Madrid', 'Melilla', 'Extremadura'],\n",
       "      dtype=object)"
      ]
     },
     "execution_count": 99,
     "metadata": {},
     "output_type": "execute_result"
    }
   ],
   "source": [
    "spain_global['aacc'].unique()"
   ]
  },
  {
   "cell_type": "code",
   "execution_count": 100,
   "id": "37d746d5",
   "metadata": {},
   "outputs": [],
   "source": [
    "aacc_dicc = {'Castilla-Leon': 'Castilla_León', \n",
    "             'Andalucia':'Andalucía','Aragon':'Aragón',\n",
    "            'Pais Vasco':'País_Vasco',\n",
    "             'Castilla-La Mancha':'Castilla_la_Mancha', \n",
    "             'La Rioja':'La_Rioja',\n",
    "             'Valenciana':'Valencia' }"
   ]
  },
  {
   "cell_type": "code",
   "execution_count": 101,
   "id": "8a84158f",
   "metadata": {},
   "outputs": [],
   "source": [
    "spain_global['aacc'] = spain_global['aacc'].replace(aacc_dicc)"
   ]
  },
  {
   "cell_type": "code",
   "execution_count": 102,
   "id": "b8a0e90a",
   "metadata": {},
   "outputs": [],
   "source": [
    "demand['aacc'] = demand['aacc'].replace(aacc_dicc)"
   ]
  },
  {
   "cell_type": "code",
   "execution_count": 103,
   "id": "35c296bc",
   "metadata": {},
   "outputs": [],
   "source": [
    "gen['aacc'] = gen['aacc'].replace(aacc_dicc)"
   ]
  },
  {
   "cell_type": "code",
   "execution_count": null,
   "id": "94b598d2",
   "metadata": {},
   "outputs": [],
   "source": []
  },
  {
   "cell_type": "code",
   "execution_count": null,
   "id": "b9dd97d5",
   "metadata": {},
   "outputs": [],
   "source": []
  }
 ],
 "metadata": {
  "kernelspec": {
   "display_name": "ironhack",
   "language": "python",
   "name": "ironhack"
  },
  "language_info": {
   "codemirror_mode": {
    "name": "ipython",
    "version": 3
   },
   "file_extension": ".py",
   "mimetype": "text/x-python",
   "name": "python",
   "nbconvert_exporter": "python",
   "pygments_lexer": "ipython3",
   "version": "3.11.5"
  }
 },
 "nbformat": 4,
 "nbformat_minor": 5
}
