{
 "cells": [
  {
   "cell_type": "code",
   "execution_count": 272,
   "id": "7fec2290",
   "metadata": {},
   "outputs": [],
   "source": [
    "import pandas as pd"
   ]
  },
  {
   "cell_type": "markdown",
   "id": "17e63e79",
   "metadata": {},
   "source": [
    "# RECOVER DATASETS SPAIN"
   ]
  },
  {
   "cell_type": "code",
   "execution_count": 273,
   "id": "531d1cb1",
   "metadata": {},
   "outputs": [],
   "source": [
    "spain_global = pd.read_csv('data/spain_global.csv')"
   ]
  },
  {
   "cell_type": "code",
   "execution_count": 274,
   "id": "3a40354d",
   "metadata": {},
   "outputs": [
    {
     "data": {
      "text/html": [
       "<div>\n",
       "<style scoped>\n",
       "    .dataframe tbody tr th:only-of-type {\n",
       "        vertical-align: middle;\n",
       "    }\n",
       "\n",
       "    .dataframe tbody tr th {\n",
       "        vertical-align: top;\n",
       "    }\n",
       "\n",
       "    .dataframe thead th {\n",
       "        text-align: right;\n",
       "    }\n",
       "</style>\n",
       "<table border=\"1\" class=\"dataframe\">\n",
       "  <thead>\n",
       "    <tr style=\"text-align: right;\">\n",
       "      <th></th>\n",
       "      <th>project</th>\n",
       "      <th>type</th>\n",
       "      <th>country</th>\n",
       "      <th>unit</th>\n",
       "      <th>status</th>\n",
       "      <th>capacity</th>\n",
       "      <th>start_year</th>\n",
       "      <th>owner</th>\n",
       "      <th>lat</th>\n",
       "      <th>lng</th>\n",
       "      <th>url</th>\n",
       "      <th>aacc</th>\n",
       "    </tr>\n",
       "  </thead>\n",
       "  <tbody>\n",
       "    <tr>\n",
       "      <th>0</th>\n",
       "      <td>Aboño power station</td>\n",
       "      <td>coal</td>\n",
       "      <td>Spain</td>\n",
       "      <td>Unit 1</td>\n",
       "      <td>operating</td>\n",
       "      <td>360.0</td>\n",
       "      <td>1974.0</td>\n",
       "      <td>HC Energia</td>\n",
       "      <td>43.55356</td>\n",
       "      <td>-5.72185</td>\n",
       "      <td>https://www.gem.wiki/Abo%C3%B1o_power_station</td>\n",
       "      <td>Asturias</td>\n",
       "    </tr>\n",
       "    <tr>\n",
       "      <th>1</th>\n",
       "      <td>Aboño power station</td>\n",
       "      <td>coal</td>\n",
       "      <td>Spain</td>\n",
       "      <td>Unit 2</td>\n",
       "      <td>operating</td>\n",
       "      <td>556.2</td>\n",
       "      <td>1985.0</td>\n",
       "      <td>HC Energia</td>\n",
       "      <td>43.55356</td>\n",
       "      <td>-5.72185</td>\n",
       "      <td>https://www.gem.wiki/Abo%C3%B1o_power_station</td>\n",
       "      <td>Asturias</td>\n",
       "    </tr>\n",
       "    <tr>\n",
       "      <th>2</th>\n",
       "      <td>Alcúdia power station</td>\n",
       "      <td>coal</td>\n",
       "      <td>Spain</td>\n",
       "      <td>Phase 2 Unit 1</td>\n",
       "      <td>retired</td>\n",
       "      <td>125.0</td>\n",
       "      <td>1981.0</td>\n",
       "      <td>GESA-Endesa</td>\n",
       "      <td>39.81075</td>\n",
       "      <td>3.09141</td>\n",
       "      <td>https://www.gem.wiki/Alcúdia_power_station</td>\n",
       "      <td>Baleares</td>\n",
       "    </tr>\n",
       "    <tr>\n",
       "      <th>3</th>\n",
       "      <td>Alcúdia power station</td>\n",
       "      <td>coal</td>\n",
       "      <td>Spain</td>\n",
       "      <td>Phase 2 Unit 2</td>\n",
       "      <td>retired</td>\n",
       "      <td>125.0</td>\n",
       "      <td>1982.0</td>\n",
       "      <td>GESA-Endesa</td>\n",
       "      <td>39.81075</td>\n",
       "      <td>3.09141</td>\n",
       "      <td>https://www.gem.wiki/Alcúdia_power_station</td>\n",
       "      <td>Baleares</td>\n",
       "    </tr>\n",
       "    <tr>\n",
       "      <th>4</th>\n",
       "      <td>Alcúdia power station</td>\n",
       "      <td>coal</td>\n",
       "      <td>Spain</td>\n",
       "      <td>Phase 2 Unit 3</td>\n",
       "      <td>operating</td>\n",
       "      <td>130.0</td>\n",
       "      <td>1997.0</td>\n",
       "      <td>GESA-Endesa</td>\n",
       "      <td>39.81075</td>\n",
       "      <td>3.09141</td>\n",
       "      <td>https://www.gem.wiki/Alcúdia_power_station</td>\n",
       "      <td>Baleares</td>\n",
       "    </tr>\n",
       "  </tbody>\n",
       "</table>\n",
       "</div>"
      ],
      "text/plain": [
       "                 project  type country            unit     status  capacity  \\\n",
       "0    Aboño power station  coal   Spain          Unit 1  operating     360.0   \n",
       "1    Aboño power station  coal   Spain          Unit 2  operating     556.2   \n",
       "2  Alcúdia power station  coal   Spain  Phase 2 Unit 1    retired     125.0   \n",
       "3  Alcúdia power station  coal   Spain  Phase 2 Unit 2    retired     125.0   \n",
       "4  Alcúdia power station  coal   Spain  Phase 2 Unit 3  operating     130.0   \n",
       "\n",
       "   start_year        owner       lat      lng  \\\n",
       "0      1974.0   HC Energia  43.55356 -5.72185   \n",
       "1      1985.0   HC Energia  43.55356 -5.72185   \n",
       "2      1981.0  GESA-Endesa  39.81075  3.09141   \n",
       "3      1982.0  GESA-Endesa  39.81075  3.09141   \n",
       "4      1997.0  GESA-Endesa  39.81075  3.09141   \n",
       "\n",
       "                                             url      aacc  \n",
       "0  https://www.gem.wiki/Abo%C3%B1o_power_station  Asturias  \n",
       "1  https://www.gem.wiki/Abo%C3%B1o_power_station  Asturias  \n",
       "2     https://www.gem.wiki/Alcúdia_power_station  Baleares  \n",
       "3     https://www.gem.wiki/Alcúdia_power_station  Baleares  \n",
       "4     https://www.gem.wiki/Alcúdia_power_station  Baleares  "
      ]
     },
     "execution_count": 274,
     "metadata": {},
     "output_type": "execute_result"
    }
   ],
   "source": [
    "spain_global.head()"
   ]
  },
  {
   "cell_type": "code",
   "execution_count": 275,
   "id": "fd678210",
   "metadata": {},
   "outputs": [],
   "source": [
    "gen = pd.read_csv('data/df_generated_monthly_ccaa.csv')"
   ]
  },
  {
   "cell_type": "code",
   "execution_count": 276,
   "id": "4c6caa6a",
   "metadata": {},
   "outputs": [
    {
     "data": {
      "text/html": [
       "<div>\n",
       "<style scoped>\n",
       "    .dataframe tbody tr th:only-of-type {\n",
       "        vertical-align: middle;\n",
       "    }\n",
       "\n",
       "    .dataframe tbody tr th {\n",
       "        vertical-align: top;\n",
       "    }\n",
       "\n",
       "    .dataframe thead th {\n",
       "        text-align: right;\n",
       "    }\n",
       "</style>\n",
       "<table border=\"1\" class=\"dataframe\">\n",
       "  <thead>\n",
       "    <tr style=\"text-align: right;\">\n",
       "      <th></th>\n",
       "      <th>Unnamed: 0</th>\n",
       "      <th>class</th>\n",
       "      <th>type</th>\n",
       "      <th>date</th>\n",
       "      <th>value</th>\n",
       "      <th>percentage</th>\n",
       "      <th>aacc</th>\n",
       "    </tr>\n",
       "  </thead>\n",
       "  <tbody>\n",
       "    <tr>\n",
       "      <th>0</th>\n",
       "      <td>0</td>\n",
       "      <td>Hidráulica</td>\n",
       "      <td>Renovable</td>\n",
       "      <td>2014-01-01</td>\n",
       "      <td>303.396</td>\n",
       "      <td>0.000421</td>\n",
       "      <td>Canarias</td>\n",
       "    </tr>\n",
       "    <tr>\n",
       "      <th>1</th>\n",
       "      <td>1</td>\n",
       "      <td>Motores diésel</td>\n",
       "      <td>No-Renovable</td>\n",
       "      <td>2014-01-01</td>\n",
       "      <td>181768.586</td>\n",
       "      <td>0.251957</td>\n",
       "      <td>Canarias</td>\n",
       "    </tr>\n",
       "    <tr>\n",
       "      <th>2</th>\n",
       "      <td>2</td>\n",
       "      <td>Turbina de gas</td>\n",
       "      <td>No-Renovable</td>\n",
       "      <td>2014-01-01</td>\n",
       "      <td>26245.404</td>\n",
       "      <td>0.036380</td>\n",
       "      <td>Canarias</td>\n",
       "    </tr>\n",
       "    <tr>\n",
       "      <th>3</th>\n",
       "      <td>3</td>\n",
       "      <td>Turbina de vapor</td>\n",
       "      <td>No-Renovable</td>\n",
       "      <td>2014-01-01</td>\n",
       "      <td>216697.507</td>\n",
       "      <td>0.300373</td>\n",
       "      <td>Canarias</td>\n",
       "    </tr>\n",
       "    <tr>\n",
       "      <th>4</th>\n",
       "      <td>4</td>\n",
       "      <td>Ciclo combinado</td>\n",
       "      <td>No-Renovable</td>\n",
       "      <td>2014-01-01</td>\n",
       "      <td>247173.544</td>\n",
       "      <td>0.342618</td>\n",
       "      <td>Canarias</td>\n",
       "    </tr>\n",
       "  </tbody>\n",
       "</table>\n",
       "</div>"
      ],
      "text/plain": [
       "   Unnamed: 0             class          type        date       value  \\\n",
       "0           0        Hidráulica     Renovable  2014-01-01     303.396   \n",
       "1           1    Motores diésel  No-Renovable  2014-01-01  181768.586   \n",
       "2           2    Turbina de gas  No-Renovable  2014-01-01   26245.404   \n",
       "3           3  Turbina de vapor  No-Renovable  2014-01-01  216697.507   \n",
       "4           4   Ciclo combinado  No-Renovable  2014-01-01  247173.544   \n",
       "\n",
       "   percentage      aacc  \n",
       "0    0.000421  Canarias  \n",
       "1    0.251957  Canarias  \n",
       "2    0.036380  Canarias  \n",
       "3    0.300373  Canarias  \n",
       "4    0.342618  Canarias  "
      ]
     },
     "execution_count": 276,
     "metadata": {},
     "output_type": "execute_result"
    }
   ],
   "source": [
    "gen.head()"
   ]
  },
  {
   "cell_type": "code",
   "execution_count": 277,
   "id": "86d94065",
   "metadata": {},
   "outputs": [],
   "source": [
    "demand = pd.read_csv('data/year_demand.csv')"
   ]
  },
  {
   "cell_type": "code",
   "execution_count": 278,
   "id": "fba59958",
   "metadata": {
    "scrolled": true
   },
   "outputs": [
    {
     "data": {
      "text/html": [
       "<div>\n",
       "<style scoped>\n",
       "    .dataframe tbody tr th:only-of-type {\n",
       "        vertical-align: middle;\n",
       "    }\n",
       "\n",
       "    .dataframe tbody tr th {\n",
       "        vertical-align: top;\n",
       "    }\n",
       "\n",
       "    .dataframe thead th {\n",
       "        text-align: right;\n",
       "    }\n",
       "</style>\n",
       "<table border=\"1\" class=\"dataframe\">\n",
       "  <thead>\n",
       "    <tr style=\"text-align: right;\">\n",
       "      <th></th>\n",
       "      <th>Unnamed: 0</th>\n",
       "      <th>class</th>\n",
       "      <th>type</th>\n",
       "      <th>date</th>\n",
       "      <th>value</th>\n",
       "      <th>percentage</th>\n",
       "      <th>aacc</th>\n",
       "    </tr>\n",
       "  </thead>\n",
       "  <tbody>\n",
       "    <tr>\n",
       "      <th>0</th>\n",
       "      <td>0</td>\n",
       "      <td>Demanda</td>\n",
       "      <td>NaN</td>\n",
       "      <td>2014-01-01</td>\n",
       "      <td>721426.992</td>\n",
       "      <td>1</td>\n",
       "      <td>Canarias</td>\n",
       "    </tr>\n",
       "    <tr>\n",
       "      <th>1</th>\n",
       "      <td>1</td>\n",
       "      <td>Demanda</td>\n",
       "      <td>NaN</td>\n",
       "      <td>2014-01-01</td>\n",
       "      <td>424810.960</td>\n",
       "      <td>1</td>\n",
       "      <td>Baleares</td>\n",
       "    </tr>\n",
       "    <tr>\n",
       "      <th>2</th>\n",
       "      <td>2</td>\n",
       "      <td>Demanda</td>\n",
       "      <td>NaN</td>\n",
       "      <td>2014-01-01</td>\n",
       "      <td>18805.790</td>\n",
       "      <td>1</td>\n",
       "      <td>Ceuta</td>\n",
       "    </tr>\n",
       "    <tr>\n",
       "      <th>3</th>\n",
       "      <td>3</td>\n",
       "      <td>Demanda</td>\n",
       "      <td>NaN</td>\n",
       "      <td>2014-01-01</td>\n",
       "      <td>17999.596</td>\n",
       "      <td>1</td>\n",
       "      <td>Melilla</td>\n",
       "    </tr>\n",
       "    <tr>\n",
       "      <th>4</th>\n",
       "      <td>4</td>\n",
       "      <td>Demanda</td>\n",
       "      <td>NaN</td>\n",
       "      <td>2014-01-01</td>\n",
       "      <td>3406748.087</td>\n",
       "      <td>1</td>\n",
       "      <td>Andalucía</td>\n",
       "    </tr>\n",
       "  </tbody>\n",
       "</table>\n",
       "</div>"
      ],
      "text/plain": [
       "   Unnamed: 0    class  type        date        value  percentage       aacc\n",
       "0           0  Demanda   NaN  2014-01-01   721426.992           1   Canarias\n",
       "1           1  Demanda   NaN  2014-01-01   424810.960           1   Baleares\n",
       "2           2  Demanda   NaN  2014-01-01    18805.790           1      Ceuta\n",
       "3           3  Demanda   NaN  2014-01-01    17999.596           1    Melilla\n",
       "4           4  Demanda   NaN  2014-01-01  3406748.087           1  Andalucía"
      ]
     },
     "execution_count": 278,
     "metadata": {},
     "output_type": "execute_result"
    }
   ],
   "source": [
    "demand.head()"
   ]
  },
  {
   "cell_type": "code",
   "execution_count": 312,
   "id": "7fdc3c1f",
   "metadata": {},
   "outputs": [
    {
     "name": "stderr",
     "output_type": "stream",
     "text": [
      "C:\\Users\\psaez\\AppData\\Local\\Temp\\ipykernel_45828\\925216994.py:1: DtypeWarning: Columns (6) have mixed types. Specify dtype option on import or set low_memory=False.\n",
      "  global_web = pd.read_csv(\"starting_data/global/global_web.csv\")\n"
     ]
    }
   ],
   "source": [
    "global_web = pd.read_csv(\"starting_data/global/global_web.csv\")"
   ]
  },
  {
   "cell_type": "code",
   "execution_count": 318,
   "id": "b00f0b4f",
   "metadata": {
    "scrolled": false
   },
   "outputs": [
    {
     "data": {
      "text/html": [
       "<div>\n",
       "<style scoped>\n",
       "    .dataframe tbody tr th:only-of-type {\n",
       "        vertical-align: middle;\n",
       "    }\n",
       "\n",
       "    .dataframe tbody tr th {\n",
       "        vertical-align: top;\n",
       "    }\n",
       "\n",
       "    .dataframe thead th {\n",
       "        text-align: right;\n",
       "    }\n",
       "</style>\n",
       "<table border=\"1\" class=\"dataframe\">\n",
       "  <thead>\n",
       "    <tr style=\"text-align: right;\">\n",
       "      <th></th>\n",
       "      <th>project</th>\n",
       "      <th>type</th>\n",
       "      <th>country</th>\n",
       "      <th>unit</th>\n",
       "      <th>status</th>\n",
       "      <th>capacity</th>\n",
       "      <th>start_year</th>\n",
       "      <th>owner</th>\n",
       "      <th>lat</th>\n",
       "      <th>lng</th>\n",
       "      <th>url</th>\n",
       "    </tr>\n",
       "  </thead>\n",
       "  <tbody>\n",
       "    <tr>\n",
       "      <th>50652</th>\n",
       "      <td>SunZia Wind</td>\n",
       "      <td>wind</td>\n",
       "      <td>United States</td>\n",
       "      <td>MW</td>\n",
       "      <td>pre-construction</td>\n",
       "      <td>3500.0</td>\n",
       "      <td>2026.0</td>\n",
       "      <td>Pattern Energy</td>\n",
       "      <td>34.3284</td>\n",
       "      <td>-105.6009</td>\n",
       "      <td>https://gem.wiki/SunZia_Wind</td>\n",
       "    </tr>\n",
       "  </tbody>\n",
       "</table>\n",
       "</div>"
      ],
      "text/plain": [
       "           project  type        country unit            status  capacity  \\\n",
       "50652  SunZia Wind  wind  United States   MW  pre-construction    3500.0   \n",
       "\n",
       "      start_year           owner      lat       lng  \\\n",
       "50652     2026.0  Pattern Energy  34.3284 -105.6009   \n",
       "\n",
       "                                url  \n",
       "50652  https://gem.wiki/SunZia_Wind  "
      ]
     },
     "execution_count": 318,
     "metadata": {},
     "output_type": "execute_result"
    }
   ],
   "source": [
    "global_web.sample()"
   ]
  },
  {
   "cell_type": "markdown",
   "id": "4f4e55f4",
   "metadata": {},
   "source": [
    "## CLEANING DATA"
   ]
  },
  {
   "cell_type": "markdown",
   "id": "44fcc217",
   "metadata": {},
   "source": [
    "#### 1- MATCH AUTONOMOUS COMMUNITIES"
   ]
  },
  {
   "cell_type": "code",
   "execution_count": 279,
   "id": "73c20a2f",
   "metadata": {},
   "outputs": [
    {
     "data": {
      "text/html": [
       "<div>\n",
       "<style scoped>\n",
       "    .dataframe tbody tr th:only-of-type {\n",
       "        vertical-align: middle;\n",
       "    }\n",
       "\n",
       "    .dataframe tbody tr th {\n",
       "        vertical-align: top;\n",
       "    }\n",
       "\n",
       "    .dataframe thead th {\n",
       "        text-align: right;\n",
       "    }\n",
       "</style>\n",
       "<table border=\"1\" class=\"dataframe\">\n",
       "  <thead>\n",
       "    <tr style=\"text-align: right;\">\n",
       "      <th></th>\n",
       "      <th>Unnamed: 0</th>\n",
       "      <th>class</th>\n",
       "      <th>type</th>\n",
       "      <th>date</th>\n",
       "      <th>value</th>\n",
       "      <th>percentage</th>\n",
       "      <th>aacc</th>\n",
       "    </tr>\n",
       "  </thead>\n",
       "  <tbody>\n",
       "    <tr>\n",
       "      <th>60</th>\n",
       "      <td>60</td>\n",
       "      <td>Carbón</td>\n",
       "      <td>No-Renovable</td>\n",
       "      <td>2014-01-01</td>\n",
       "      <td>18014.26</td>\n",
       "      <td>0.007589</td>\n",
       "      <td>Castilla_la_Mancha</td>\n",
       "    </tr>\n",
       "  </tbody>\n",
       "</table>\n",
       "</div>"
      ],
      "text/plain": [
       "    Unnamed: 0   class          type        date     value  percentage  \\\n",
       "60          60  Carbón  No-Renovable  2014-01-01  18014.26    0.007589   \n",
       "\n",
       "                  aacc  \n",
       "60  Castilla_la_Mancha  "
      ]
     },
     "execution_count": 279,
     "metadata": {},
     "output_type": "execute_result"
    }
   ],
   "source": [
    "gen.sample()"
   ]
  },
  {
   "cell_type": "code",
   "execution_count": 280,
   "id": "655f9194",
   "metadata": {},
   "outputs": [
    {
     "data": {
      "text/html": [
       "<div>\n",
       "<style scoped>\n",
       "    .dataframe tbody tr th:only-of-type {\n",
       "        vertical-align: middle;\n",
       "    }\n",
       "\n",
       "    .dataframe tbody tr th {\n",
       "        vertical-align: top;\n",
       "    }\n",
       "\n",
       "    .dataframe thead th {\n",
       "        text-align: right;\n",
       "    }\n",
       "</style>\n",
       "<table border=\"1\" class=\"dataframe\">\n",
       "  <thead>\n",
       "    <tr style=\"text-align: right;\">\n",
       "      <th></th>\n",
       "      <th>Unnamed: 0</th>\n",
       "      <th>class</th>\n",
       "      <th>type</th>\n",
       "      <th>date</th>\n",
       "      <th>value</th>\n",
       "      <th>percentage</th>\n",
       "      <th>aacc</th>\n",
       "    </tr>\n",
       "  </thead>\n",
       "  <tbody>\n",
       "    <tr>\n",
       "      <th>23</th>\n",
       "      <td>23</td>\n",
       "      <td>Demanda</td>\n",
       "      <td>NaN</td>\n",
       "      <td>2015-01-01</td>\n",
       "      <td>3485428.721</td>\n",
       "      <td>1</td>\n",
       "      <td>Andalucía</td>\n",
       "    </tr>\n",
       "  </tbody>\n",
       "</table>\n",
       "</div>"
      ],
      "text/plain": [
       "    Unnamed: 0    class  type        date        value  percentage       aacc\n",
       "23          23  Demanda   NaN  2015-01-01  3485428.721           1  Andalucía"
      ]
     },
     "execution_count": 280,
     "metadata": {},
     "output_type": "execute_result"
    }
   ],
   "source": [
    "demand.sample()"
   ]
  },
  {
   "cell_type": "code",
   "execution_count": 281,
   "id": "d596ef14",
   "metadata": {},
   "outputs": [
    {
     "data": {
      "text/html": [
       "<div>\n",
       "<style scoped>\n",
       "    .dataframe tbody tr th:only-of-type {\n",
       "        vertical-align: middle;\n",
       "    }\n",
       "\n",
       "    .dataframe tbody tr th {\n",
       "        vertical-align: top;\n",
       "    }\n",
       "\n",
       "    .dataframe thead th {\n",
       "        text-align: right;\n",
       "    }\n",
       "</style>\n",
       "<table border=\"1\" class=\"dataframe\">\n",
       "  <thead>\n",
       "    <tr style=\"text-align: right;\">\n",
       "      <th></th>\n",
       "      <th>project</th>\n",
       "      <th>type</th>\n",
       "      <th>country</th>\n",
       "      <th>unit</th>\n",
       "      <th>status</th>\n",
       "      <th>capacity</th>\n",
       "      <th>start_year</th>\n",
       "      <th>owner</th>\n",
       "      <th>lat</th>\n",
       "      <th>lng</th>\n",
       "      <th>url</th>\n",
       "      <th>aacc</th>\n",
       "    </tr>\n",
       "  </thead>\n",
       "  <tbody>\n",
       "    <tr>\n",
       "      <th>952</th>\n",
       "      <td>Peñalba solar farm</td>\n",
       "      <td>solar</td>\n",
       "      <td>Spain</td>\n",
       "      <td>NaN</td>\n",
       "      <td>pre-construction</td>\n",
       "      <td>44.0</td>\n",
       "      <td>NaN</td>\n",
       "      <td>Libienergy Energías SL</td>\n",
       "      <td>41.5325</td>\n",
       "      <td>0.3532</td>\n",
       "      <td>https://gem.wiki/Peñalba_solar_farm</td>\n",
       "      <td>Aragon</td>\n",
       "    </tr>\n",
       "  </tbody>\n",
       "</table>\n",
       "</div>"
      ],
      "text/plain": [
       "                project   type country unit            status  capacity  \\\n",
       "952  Peñalba solar farm  solar   Spain  NaN  pre-construction      44.0   \n",
       "\n",
       "     start_year                   owner      lat     lng  \\\n",
       "952         NaN  Libienergy Energías SL  41.5325  0.3532   \n",
       "\n",
       "                                     url    aacc  \n",
       "952  https://gem.wiki/Peñalba_solar_farm  Aragon  "
      ]
     },
     "execution_count": 281,
     "metadata": {},
     "output_type": "execute_result"
    }
   ],
   "source": [
    "spain_global.sample()"
   ]
  },
  {
   "cell_type": "code",
   "execution_count": 282,
   "id": "1e3957ed",
   "metadata": {},
   "outputs": [],
   "source": [
    "spain_global.rename(columns={'ccaa':'aacc'}, inplace = True)"
   ]
  },
  {
   "cell_type": "code",
   "execution_count": 283,
   "id": "5292c62a",
   "metadata": {},
   "outputs": [
    {
     "data": {
      "text/html": [
       "<div>\n",
       "<style scoped>\n",
       "    .dataframe tbody tr th:only-of-type {\n",
       "        vertical-align: middle;\n",
       "    }\n",
       "\n",
       "    .dataframe tbody tr th {\n",
       "        vertical-align: top;\n",
       "    }\n",
       "\n",
       "    .dataframe thead th {\n",
       "        text-align: right;\n",
       "    }\n",
       "</style>\n",
       "<table border=\"1\" class=\"dataframe\">\n",
       "  <thead>\n",
       "    <tr style=\"text-align: right;\">\n",
       "      <th></th>\n",
       "      <th>project</th>\n",
       "      <th>type</th>\n",
       "      <th>country</th>\n",
       "      <th>unit</th>\n",
       "      <th>status</th>\n",
       "      <th>capacity</th>\n",
       "      <th>start_year</th>\n",
       "      <th>owner</th>\n",
       "      <th>lat</th>\n",
       "      <th>lng</th>\n",
       "      <th>url</th>\n",
       "      <th>aacc</th>\n",
       "    </tr>\n",
       "  </thead>\n",
       "  <tbody>\n",
       "    <tr>\n",
       "      <th>776</th>\n",
       "      <td>Lepe solar farm</td>\n",
       "      <td>solar</td>\n",
       "      <td>Spain</td>\n",
       "      <td>NaN</td>\n",
       "      <td>pre-construction</td>\n",
       "      <td>90.0</td>\n",
       "      <td>NaN</td>\n",
       "      <td>Ence Energía y Celulosa</td>\n",
       "      <td>37.3104</td>\n",
       "      <td>-7.2522</td>\n",
       "      <td>https://gem.wiki/Lepe_solar_farm</td>\n",
       "      <td>Andalucia</td>\n",
       "    </tr>\n",
       "  </tbody>\n",
       "</table>\n",
       "</div>"
      ],
      "text/plain": [
       "             project   type country unit            status  capacity  \\\n",
       "776  Lepe solar farm  solar   Spain  NaN  pre-construction      90.0   \n",
       "\n",
       "     start_year                    owner      lat     lng  \\\n",
       "776         NaN  Ence Energía y Celulosa  37.3104 -7.2522   \n",
       "\n",
       "                                  url       aacc  \n",
       "776  https://gem.wiki/Lepe_solar_farm  Andalucia  "
      ]
     },
     "execution_count": 283,
     "metadata": {},
     "output_type": "execute_result"
    }
   ],
   "source": [
    "spain_global.sample()"
   ]
  },
  {
   "cell_type": "code",
   "execution_count": 284,
   "id": "259c9eb7",
   "metadata": {},
   "outputs": [
    {
     "data": {
      "text/html": [
       "<div>\n",
       "<style scoped>\n",
       "    .dataframe tbody tr th:only-of-type {\n",
       "        vertical-align: middle;\n",
       "    }\n",
       "\n",
       "    .dataframe tbody tr th {\n",
       "        vertical-align: top;\n",
       "    }\n",
       "\n",
       "    .dataframe thead th {\n",
       "        text-align: right;\n",
       "    }\n",
       "</style>\n",
       "<table border=\"1\" class=\"dataframe\">\n",
       "  <thead>\n",
       "    <tr style=\"text-align: right;\">\n",
       "      <th></th>\n",
       "      <th>Unnamed: 0</th>\n",
       "      <th>class</th>\n",
       "      <th>type</th>\n",
       "      <th>date</th>\n",
       "      <th>value</th>\n",
       "      <th>percentage</th>\n",
       "      <th>aacc</th>\n",
       "    </tr>\n",
       "  </thead>\n",
       "  <tbody>\n",
       "    <tr>\n",
       "      <th>539</th>\n",
       "      <td>539</td>\n",
       "      <td>Generación total</td>\n",
       "      <td>Generación total</td>\n",
       "      <td>2017-01-01</td>\n",
       "      <td>18568.292</td>\n",
       "      <td>1.0</td>\n",
       "      <td>Melilla</td>\n",
       "    </tr>\n",
       "  </tbody>\n",
       "</table>\n",
       "</div>"
      ],
      "text/plain": [
       "     Unnamed: 0             class              type        date      value  \\\n",
       "539         539  Generación total  Generación total  2017-01-01  18568.292   \n",
       "\n",
       "     percentage     aacc  \n",
       "539         1.0  Melilla  "
      ]
     },
     "execution_count": 284,
     "metadata": {},
     "output_type": "execute_result"
    }
   ],
   "source": [
    "gen.sample()"
   ]
  },
  {
   "cell_type": "code",
   "execution_count": 285,
   "id": "11527a82",
   "metadata": {},
   "outputs": [],
   "source": [
    "gen.rename(columns={\"comunidad\":'aacc'}, inplace = True)"
   ]
  },
  {
   "cell_type": "code",
   "execution_count": 286,
   "id": "7ff9b875",
   "metadata": {},
   "outputs": [
    {
     "data": {
      "text/html": [
       "<div>\n",
       "<style scoped>\n",
       "    .dataframe tbody tr th:only-of-type {\n",
       "        vertical-align: middle;\n",
       "    }\n",
       "\n",
       "    .dataframe tbody tr th {\n",
       "        vertical-align: top;\n",
       "    }\n",
       "\n",
       "    .dataframe thead th {\n",
       "        text-align: right;\n",
       "    }\n",
       "</style>\n",
       "<table border=\"1\" class=\"dataframe\">\n",
       "  <thead>\n",
       "    <tr style=\"text-align: right;\">\n",
       "      <th></th>\n",
       "      <th>Unnamed: 0</th>\n",
       "      <th>class</th>\n",
       "      <th>type</th>\n",
       "      <th>date</th>\n",
       "      <th>value</th>\n",
       "      <th>percentage</th>\n",
       "      <th>aacc</th>\n",
       "    </tr>\n",
       "  </thead>\n",
       "  <tbody>\n",
       "    <tr>\n",
       "      <th>172</th>\n",
       "      <td>172</td>\n",
       "      <td>Turbina de vapor</td>\n",
       "      <td>No-Renovable</td>\n",
       "      <td>2015-01-01</td>\n",
       "      <td>202134.491</td>\n",
       "      <td>0.27755</td>\n",
       "      <td>Canarias</td>\n",
       "    </tr>\n",
       "  </tbody>\n",
       "</table>\n",
       "</div>"
      ],
      "text/plain": [
       "     Unnamed: 0             class          type        date       value  \\\n",
       "172         172  Turbina de vapor  No-Renovable  2015-01-01  202134.491   \n",
       "\n",
       "     percentage      aacc  \n",
       "172     0.27755  Canarias  "
      ]
     },
     "execution_count": 286,
     "metadata": {},
     "output_type": "execute_result"
    }
   ],
   "source": [
    "gen.sample()"
   ]
  },
  {
   "cell_type": "code",
   "execution_count": 287,
   "id": "efbe50cf",
   "metadata": {},
   "outputs": [
    {
     "data": {
      "text/plain": [
       "array(['Canarias', 'Baleares', 'Ceuta', 'Melilla', 'Andalucía', 'Aragón',\n",
       "       'Cantabria', 'Castilla_la_Mancha', 'Castilla_León', 'Cataluña',\n",
       "       'País_Vasco', 'Asturias', 'Madrid', 'Navarra', 'Valenciana',\n",
       "       'Extremadura', 'Galicia', 'La_Rioja', 'Murcia'], dtype=object)"
      ]
     },
     "execution_count": 287,
     "metadata": {},
     "output_type": "execute_result"
    }
   ],
   "source": [
    "gen['aacc'].unique()"
   ]
  },
  {
   "cell_type": "code",
   "execution_count": 288,
   "id": "d32eae50",
   "metadata": {},
   "outputs": [
    {
     "data": {
      "text/plain": [
       "array(['Canarias', 'Baleares', 'Ceuta', 'Melilla', 'Andalucía', 'Aragón',\n",
       "       'Cantabria', 'Castilla_la_Mancha', 'Castilla_León', 'Cataluña',\n",
       "       'País_Vasco', 'Asturias', 'Madrid', 'Navarra', 'Valenciana',\n",
       "       'Extremadura', 'Galicia', 'La_Rioja', 'Murcia'], dtype=object)"
      ]
     },
     "execution_count": 288,
     "metadata": {},
     "output_type": "execute_result"
    }
   ],
   "source": [
    "demand['aacc'].unique()"
   ]
  },
  {
   "cell_type": "code",
   "execution_count": 289,
   "id": "4c92b79d",
   "metadata": {},
   "outputs": [
    {
     "data": {
      "text/plain": [
       "array(['Asturias', 'Baleares', 'Castilla-Leon', 'Galicia', 'Andalucia',\n",
       "       'Cataluña', 'Cantabria', 'Aragon', 'Pais Vasco',\n",
       "       'Castilla-La Mancha', 'La Rioja', nan, 'Canarias', 'Murcia',\n",
       "       'Navarra', 'Valencia', 'Madrid', 'Melilla', 'Extremadura'],\n",
       "      dtype=object)"
      ]
     },
     "execution_count": 289,
     "metadata": {},
     "output_type": "execute_result"
    }
   ],
   "source": [
    "spain_global['aacc'].unique()"
   ]
  },
  {
   "cell_type": "code",
   "execution_count": 290,
   "id": "eb40edeb",
   "metadata": {},
   "outputs": [],
   "source": [
    "aacc_dicc = {'Castilla-Leon': 'Castilla_León', \n",
    "             'Andalucia':'Andalucía','Aragon':'Aragón',\n",
    "            'Pais Vasco':'País_Vasco',\n",
    "             'Castilla-La Mancha':'Castilla_la_Mancha', \n",
    "             'La Rioja':'La_Rioja',\n",
    "             'Valenciana':'Valencia' }"
   ]
  },
  {
   "cell_type": "code",
   "execution_count": 291,
   "id": "09033108",
   "metadata": {},
   "outputs": [],
   "source": [
    "spain_global['aacc'] = spain_global['aacc'].replace(aacc_dicc)"
   ]
  },
  {
   "cell_type": "code",
   "execution_count": 292,
   "id": "2e8a2200",
   "metadata": {},
   "outputs": [],
   "source": [
    "demand['aacc'] = demand['aacc'].replace(aacc_dicc)"
   ]
  },
  {
   "cell_type": "code",
   "execution_count": 293,
   "id": "c256a9d0",
   "metadata": {},
   "outputs": [],
   "source": [
    "gen['aacc'] = gen['aacc'].replace(aacc_dicc)"
   ]
  },
  {
   "cell_type": "markdown",
   "id": "71d2cc58",
   "metadata": {},
   "source": [
    "#### 2- 'date' columns to datetype"
   ]
  },
  {
   "cell_type": "code",
   "execution_count": 294,
   "id": "e637e5f8",
   "metadata": {},
   "outputs": [],
   "source": [
    "gen['date'] = pd.to_datetime(gen['date'])"
   ]
  },
  {
   "cell_type": "code",
   "execution_count": 295,
   "id": "05245be2",
   "metadata": {},
   "outputs": [],
   "source": [
    "demand['date'] = pd.to_datetime(demand['date'])"
   ]
  },
  {
   "cell_type": "markdown",
   "id": "a06a5edb",
   "metadata": {},
   "source": [
    "#### 3- type  of energy"
   ]
  },
  {
   "cell_type": "code",
   "execution_count": 296,
   "id": "897ac97a",
   "metadata": {},
   "outputs": [
    {
     "data": {
      "text/html": [
       "<div>\n",
       "<style scoped>\n",
       "    .dataframe tbody tr th:only-of-type {\n",
       "        vertical-align: middle;\n",
       "    }\n",
       "\n",
       "    .dataframe tbody tr th {\n",
       "        vertical-align: top;\n",
       "    }\n",
       "\n",
       "    .dataframe thead th {\n",
       "        text-align: right;\n",
       "    }\n",
       "</style>\n",
       "<table border=\"1\" class=\"dataframe\">\n",
       "  <thead>\n",
       "    <tr style=\"text-align: right;\">\n",
       "      <th></th>\n",
       "      <th>project</th>\n",
       "      <th>type</th>\n",
       "      <th>country</th>\n",
       "      <th>unit</th>\n",
       "      <th>status</th>\n",
       "      <th>capacity</th>\n",
       "      <th>start_year</th>\n",
       "      <th>owner</th>\n",
       "      <th>lat</th>\n",
       "      <th>lng</th>\n",
       "      <th>url</th>\n",
       "      <th>aacc</th>\n",
       "    </tr>\n",
       "  </thead>\n",
       "  <tbody>\n",
       "    <tr>\n",
       "      <th>531</th>\n",
       "      <td>El Bonillo solar farm</td>\n",
       "      <td>solar</td>\n",
       "      <td>Spain</td>\n",
       "      <td>NaN</td>\n",
       "      <td>operating</td>\n",
       "      <td>20.0</td>\n",
       "      <td>2008.0</td>\n",
       "      <td>Deutsche Bank</td>\n",
       "      <td>38.9167</td>\n",
       "      <td>-2.5505</td>\n",
       "      <td>https://gem.wiki/El_Bonillo_solar_farm</td>\n",
       "      <td>Castilla_la_Mancha</td>\n",
       "    </tr>\n",
       "  </tbody>\n",
       "</table>\n",
       "</div>"
      ],
      "text/plain": [
       "                   project   type country unit     status  capacity  \\\n",
       "531  El Bonillo solar farm  solar   Spain  NaN  operating      20.0   \n",
       "\n",
       "     start_year          owner      lat     lng  \\\n",
       "531      2008.0  Deutsche Bank  38.9167 -2.5505   \n",
       "\n",
       "                                        url                aacc  \n",
       "531  https://gem.wiki/El_Bonillo_solar_farm  Castilla_la_Mancha  "
      ]
     },
     "execution_count": 296,
     "metadata": {},
     "output_type": "execute_result"
    }
   ],
   "source": [
    "spain_global.sample()"
   ]
  },
  {
   "cell_type": "code",
   "execution_count": 297,
   "id": "20f9634c",
   "metadata": {},
   "outputs": [
    {
     "data": {
      "text/html": [
       "<div>\n",
       "<style scoped>\n",
       "    .dataframe tbody tr th:only-of-type {\n",
       "        vertical-align: middle;\n",
       "    }\n",
       "\n",
       "    .dataframe tbody tr th {\n",
       "        vertical-align: top;\n",
       "    }\n",
       "\n",
       "    .dataframe thead th {\n",
       "        text-align: right;\n",
       "    }\n",
       "</style>\n",
       "<table border=\"1\" class=\"dataframe\">\n",
       "  <thead>\n",
       "    <tr style=\"text-align: right;\">\n",
       "      <th></th>\n",
       "      <th>Unnamed: 0</th>\n",
       "      <th>class</th>\n",
       "      <th>type</th>\n",
       "      <th>date</th>\n",
       "      <th>value</th>\n",
       "      <th>percentage</th>\n",
       "      <th>aacc</th>\n",
       "    </tr>\n",
       "  </thead>\n",
       "  <tbody>\n",
       "    <tr>\n",
       "      <th>1337</th>\n",
       "      <td>1337</td>\n",
       "      <td>Otras renovables</td>\n",
       "      <td>Renovable</td>\n",
       "      <td>2021-01-01</td>\n",
       "      <td>32446.143</td>\n",
       "      <td>0.010621</td>\n",
       "      <td>Galicia</td>\n",
       "    </tr>\n",
       "  </tbody>\n",
       "</table>\n",
       "</div>"
      ],
      "text/plain": [
       "      Unnamed: 0             class       type       date      value  \\\n",
       "1337        1337  Otras renovables  Renovable 2021-01-01  32446.143   \n",
       "\n",
       "      percentage     aacc  \n",
       "1337    0.010621  Galicia  "
      ]
     },
     "execution_count": 297,
     "metadata": {},
     "output_type": "execute_result"
    }
   ],
   "source": [
    "gen.sample()"
   ]
  },
  {
   "cell_type": "code",
   "execution_count": 322,
   "id": "c57308b5",
   "metadata": {},
   "outputs": [
    {
     "data": {
      "text/plain": [
       "array(['coal', 'oil_gas', 'solar', 'wind', 'hydropower', 'geothermal',\n",
       "       'bioenergy', 'nuclear'], dtype=object)"
      ]
     },
     "execution_count": 322,
     "metadata": {},
     "output_type": "execute_result"
    }
   ],
   "source": [
    "global_web['type'].unique()"
   ]
  },
  {
   "cell_type": "code",
   "execution_count": 303,
   "id": "e74fb1dc",
   "metadata": {},
   "outputs": [
    {
     "data": {
      "text/plain": [
       "array(['coal', 'oil_gas', 'solar', 'wind', 'hydropower', 'bioenergy',\n",
       "       'nuclear'], dtype=object)"
      ]
     },
     "execution_count": 303,
     "metadata": {},
     "output_type": "execute_result"
    }
   ],
   "source": [
    "spain_global['type'].unique()"
   ]
  },
  {
   "cell_type": "code",
   "execution_count": 299,
   "id": "442eb9e8",
   "metadata": {},
   "outputs": [
    {
     "data": {
      "text/plain": [
       "array(['Hidráulica', 'Motores diésel', 'Turbina de gas',\n",
       "       'Turbina de vapor', 'Ciclo combinado', 'Hidroeólica', 'Eólica',\n",
       "       'Solar fotovoltaica', 'Otras renovables', 'Generación total',\n",
       "       'Carbón', 'Cogeneración', 'Residuos no renovables',\n",
       "       'Residuos renovables', 'Turbinación bombeo', 'Solar térmica',\n",
       "       'Nuclear', 'Fuel + Gas'], dtype=object)"
      ]
     },
     "execution_count": 299,
     "metadata": {},
     "output_type": "execute_result"
    }
   ],
   "source": [
    "gen['class'].unique()"
   ]
  },
  {
   "cell_type": "markdown",
   "id": "13b143b2",
   "metadata": {},
   "source": [
    " we will try to unify as much as possible energies from gen dataframe and spain_global so , in order to do so we will:\n",
    " \n",
    "     - change the name of the column 'type' in spain_global to class\n",
    "     - consider both 'Solar Fotovoltaica' and 'Solar térmica' as 'solar'\n",
    "  on the other hand we will create a dicctionary to replace names and unify whenever possible"
   ]
  },
  {
   "cell_type": "code",
   "execution_count": 231,
   "id": "acb8c2e2",
   "metadata": {},
   "outputs": [],
   "source": [
    "spain_global.rename(columns ={'type':'class'}, inplace = True)"
   ]
  },
  {
   "cell_type": "code",
   "execution_count": 300,
   "id": "48bfb1ab",
   "metadata": {},
   "outputs": [],
   "source": [
    "energy_dicc = {\n",
    "    'Solar fotovoltaica':'solar',\n",
    "    'Solar térmica': 'solar',\n",
    "    'Hidroeólica':'hydropower',\n",
    "    'Eolica': 'wind',\n",
    "    'Carbón' : 'coal',\n",
    "    'Nuclear' : 'nuclear',\n",
    "    'Motores diésel':'oil_gas',\n",
    "    'Turbina de gas':'oil_gas',\n",
    "    'Turbina de vapor':'oil_gas',\n",
    "    'Ciclo combinado':'oil_gas',\n",
    "    'Otras renovables' : 'bioenergy',\n",
    "    'Generación total' : 'others',\n",
    "    'Cogeneración' : 'oil_gas',\n",
    "    'Residuos no renovables': 'coal',\n",
    "    'Residuos renovables':'bioenergy',\n",
    "    'Turbinación bombeo':'hydropower',\n",
    "    'Fuel + Gas' : 'oil_gas'\n",
    "    }"
   ]
  },
  {
   "cell_type": "code",
   "execution_count": 301,
   "id": "62a94de2",
   "metadata": {},
   "outputs": [],
   "source": [
    "gen['class'] = gen['class'].map(energy_dicc)"
   ]
  },
  {
   "cell_type": "code",
   "execution_count": 302,
   "id": "1e5f205e",
   "metadata": {
    "scrolled": true
   },
   "outputs": [
    {
     "data": {
      "text/html": [
       "<div>\n",
       "<style scoped>\n",
       "    .dataframe tbody tr th:only-of-type {\n",
       "        vertical-align: middle;\n",
       "    }\n",
       "\n",
       "    .dataframe tbody tr th {\n",
       "        vertical-align: top;\n",
       "    }\n",
       "\n",
       "    .dataframe thead th {\n",
       "        text-align: right;\n",
       "    }\n",
       "</style>\n",
       "<table border=\"1\" class=\"dataframe\">\n",
       "  <thead>\n",
       "    <tr style=\"text-align: right;\">\n",
       "      <th></th>\n",
       "      <th>Unnamed: 0</th>\n",
       "      <th>class</th>\n",
       "      <th>type</th>\n",
       "      <th>date</th>\n",
       "      <th>value</th>\n",
       "      <th>percentage</th>\n",
       "      <th>aacc</th>\n",
       "    </tr>\n",
       "  </thead>\n",
       "  <tbody>\n",
       "    <tr>\n",
       "      <th>1123</th>\n",
       "      <td>1123</td>\n",
       "      <td>solar</td>\n",
       "      <td>Renovable</td>\n",
       "      <td>2020-01-01</td>\n",
       "      <td>25.78</td>\n",
       "      <td>0.000025</td>\n",
       "      <td>Asturias</td>\n",
       "    </tr>\n",
       "  </tbody>\n",
       "</table>\n",
       "</div>"
      ],
      "text/plain": [
       "      Unnamed: 0  class       type       date  value  percentage      aacc\n",
       "1123        1123  solar  Renovable 2020-01-01  25.78    0.000025  Asturias"
      ]
     },
     "execution_count": 302,
     "metadata": {},
     "output_type": "execute_result"
    }
   ],
   "source": [
    "gen.sample()"
   ]
  },
  {
   "cell_type": "markdown",
   "id": "82835029",
   "metadata": {},
   "source": [
    "#### 4- units"
   ]
  },
  {
   "cell_type": "markdown",
   "id": "ad2f3690",
   "metadata": {},
   "source": [
    "According to the REE API, units for their values are MWh. In `spain_global`, not always are units given, and if they are, they are in MW. Therefore, to convert from MW to MWh, we simply need to multiply by the number of hours. As all requests to REE have been made for each month, we will multiply the capacity in `spain_global` by 720 (30 days * 24 hours) to unify units. After that, we will standardize all units to MWh in all dataframes for better understanding."
   ]
  },
  {
   "cell_type": "code",
   "execution_count": 304,
   "id": "a1c57606",
   "metadata": {},
   "outputs": [],
   "source": [
    "spain_global['capacity'] = spain_global['capacity'] * 720"
   ]
  },
  {
   "cell_type": "code",
   "execution_count": 323,
   "id": "f04aa281",
   "metadata": {},
   "outputs": [],
   "source": [
    "global_web['capacity'] = global_web['capacity'] * 720"
   ]
  },
  {
   "cell_type": "code",
   "execution_count": 324,
   "id": "ddc6ad65",
   "metadata": {},
   "outputs": [],
   "source": [
    "gen['unit'] = 'MWh'\n",
    "demand['unit'] = 'MWh'\n",
    "spain_global['unit'] = 'MWh'\n",
    "global_web['unit'] = 'MWh'"
   ]
  },
  {
   "cell_type": "markdown",
   "id": "23ff3f70",
   "metadata": {},
   "source": [
    "## SAVING AS CSV FILES"
   ]
  },
  {
   "cell_type": "code",
   "execution_count": 325,
   "id": "c78b3528",
   "metadata": {},
   "outputs": [],
   "source": [
    "gen.to_csv(\"data/gen.csv\", index = False)\n",
    "demand.to_csv('data/demand.csv', index = False)\n",
    "spain_global.to_csv('data/spain_golbal', index = False)\n",
    "global_web.to_csv('data/global_web', index = False)"
   ]
  }
 ],
 "metadata": {
  "kernelspec": {
   "display_name": "ironhack",
   "language": "python",
   "name": "ironhack"
  },
  "language_info": {
   "codemirror_mode": {
    "name": "ipython",
    "version": 3
   },
   "file_extension": ".py",
   "mimetype": "text/x-python",
   "name": "python",
   "nbconvert_exporter": "python",
   "pygments_lexer": "ipython3",
   "version": "3.11.5"
  }
 },
 "nbformat": 4,
 "nbformat_minor": 5
}
