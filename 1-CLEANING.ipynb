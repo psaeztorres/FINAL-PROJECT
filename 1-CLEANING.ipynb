{
 "cells": [
  {
   "cell_type": "code",
   "execution_count": 41,
   "id": "9e98ce48",
   "metadata": {},
   "outputs": [],
   "source": [
    "import pandas as pd"
   ]
  },
  {
   "cell_type": "markdown",
   "id": "2affe7ef",
   "metadata": {},
   "source": [
    "# RECOVER DATASETS "
   ]
  },
  {
   "cell_type": "markdown",
   "id": "6e8e8b8c",
   "metadata": {},
   "source": [
    "First step is to recover the datasets we have created and saved from the different queries and webscrapping.\n",
    "A first view let us see several problems that must be solve before analysing the data:\n",
    "\n",
    "    - Three variables must be standarized beteween all the dataframes for future comparison/analysis:\n",
    "        - autonomous communities names\n",
    "        - types of energy\n",
    "        - units\n",
    "    \n",
    "    - Also in two of the dataframes data is not datetieme type so, it must be changed\n",
    "    "
   ]
  },
  {
   "cell_type": "code",
   "execution_count": 42,
   "id": "73b5c5ed",
   "metadata": {},
   "outputs": [
    {
     "name": "stderr",
     "output_type": "stream",
     "text": [
      "C:\\Users\\psaez\\AppData\\Local\\Temp\\ipykernel_35256\\3424186575.py:4: DtypeWarning: Columns (6) have mixed types. Specify dtype option on import or set low_memory=False.\n",
      "  global_web = pd.read_csv(\"starting_data/global/global_web.csv\")\n"
     ]
    }
   ],
   "source": [
    "spain_global = pd.read_csv('starting_data/spain_global.csv')\n",
    "gen = pd.read_csv('data/no_clean/df_generated_monthly_ccaa.csv')\n",
    "demand = pd.read_csv('data/no_clean/year_demand.csv')\n",
    "global_web = pd.read_csv(\"starting_data/global/global_web.csv\")\n",
    "reservoir  = pd.read_excel('starting_data/Embalses.xlsx')"
   ]
  },
  {
   "cell_type": "code",
   "execution_count": 43,
   "id": "e9285019",
   "metadata": {},
   "outputs": [
    {
     "data": {
      "text/html": [
       "<div>\n",
       "<style scoped>\n",
       "    .dataframe tbody tr th:only-of-type {\n",
       "        vertical-align: middle;\n",
       "    }\n",
       "\n",
       "    .dataframe tbody tr th {\n",
       "        vertical-align: top;\n",
       "    }\n",
       "\n",
       "    .dataframe thead th {\n",
       "        text-align: right;\n",
       "    }\n",
       "</style>\n",
       "<table border=\"1\" class=\"dataframe\">\n",
       "  <thead>\n",
       "    <tr style=\"text-align: right;\">\n",
       "      <th></th>\n",
       "      <th>project</th>\n",
       "      <th>type</th>\n",
       "      <th>country</th>\n",
       "      <th>unit</th>\n",
       "      <th>status</th>\n",
       "      <th>capacity</th>\n",
       "      <th>start_year</th>\n",
       "      <th>owner</th>\n",
       "      <th>lat</th>\n",
       "      <th>lng</th>\n",
       "      <th>url</th>\n",
       "      <th>aacc</th>\n",
       "    </tr>\n",
       "  </thead>\n",
       "  <tbody>\n",
       "    <tr>\n",
       "      <th>0</th>\n",
       "      <td>Aboño power station</td>\n",
       "      <td>coal</td>\n",
       "      <td>Spain</td>\n",
       "      <td>Unit 1</td>\n",
       "      <td>operating</td>\n",
       "      <td>360.0</td>\n",
       "      <td>1974.0</td>\n",
       "      <td>HC Energia</td>\n",
       "      <td>43.55356</td>\n",
       "      <td>-5.72185</td>\n",
       "      <td>https://www.gem.wiki/Abo%C3%B1o_power_station</td>\n",
       "      <td>Asturias</td>\n",
       "    </tr>\n",
       "    <tr>\n",
       "      <th>1</th>\n",
       "      <td>Aboño power station</td>\n",
       "      <td>coal</td>\n",
       "      <td>Spain</td>\n",
       "      <td>Unit 2</td>\n",
       "      <td>operating</td>\n",
       "      <td>556.2</td>\n",
       "      <td>1985.0</td>\n",
       "      <td>HC Energia</td>\n",
       "      <td>43.55356</td>\n",
       "      <td>-5.72185</td>\n",
       "      <td>https://www.gem.wiki/Abo%C3%B1o_power_station</td>\n",
       "      <td>Asturias</td>\n",
       "    </tr>\n",
       "    <tr>\n",
       "      <th>2</th>\n",
       "      <td>Alcúdia power station</td>\n",
       "      <td>coal</td>\n",
       "      <td>Spain</td>\n",
       "      <td>Phase 2 Unit 1</td>\n",
       "      <td>retired</td>\n",
       "      <td>125.0</td>\n",
       "      <td>1981.0</td>\n",
       "      <td>GESA-Endesa</td>\n",
       "      <td>39.81075</td>\n",
       "      <td>3.09141</td>\n",
       "      <td>https://www.gem.wiki/Alcúdia_power_station</td>\n",
       "      <td>Baleares</td>\n",
       "    </tr>\n",
       "    <tr>\n",
       "      <th>3</th>\n",
       "      <td>Alcúdia power station</td>\n",
       "      <td>coal</td>\n",
       "      <td>Spain</td>\n",
       "      <td>Phase 2 Unit 2</td>\n",
       "      <td>retired</td>\n",
       "      <td>125.0</td>\n",
       "      <td>1982.0</td>\n",
       "      <td>GESA-Endesa</td>\n",
       "      <td>39.81075</td>\n",
       "      <td>3.09141</td>\n",
       "      <td>https://www.gem.wiki/Alcúdia_power_station</td>\n",
       "      <td>Baleares</td>\n",
       "    </tr>\n",
       "    <tr>\n",
       "      <th>4</th>\n",
       "      <td>Alcúdia power station</td>\n",
       "      <td>coal</td>\n",
       "      <td>Spain</td>\n",
       "      <td>Phase 2 Unit 3</td>\n",
       "      <td>operating</td>\n",
       "      <td>130.0</td>\n",
       "      <td>1997.0</td>\n",
       "      <td>GESA-Endesa</td>\n",
       "      <td>39.81075</td>\n",
       "      <td>3.09141</td>\n",
       "      <td>https://www.gem.wiki/Alcúdia_power_station</td>\n",
       "      <td>Baleares</td>\n",
       "    </tr>\n",
       "  </tbody>\n",
       "</table>\n",
       "</div>"
      ],
      "text/plain": [
       "                 project  type country            unit     status  capacity  \\\n",
       "0    Aboño power station  coal   Spain          Unit 1  operating     360.0   \n",
       "1    Aboño power station  coal   Spain          Unit 2  operating     556.2   \n",
       "2  Alcúdia power station  coal   Spain  Phase 2 Unit 1    retired     125.0   \n",
       "3  Alcúdia power station  coal   Spain  Phase 2 Unit 2    retired     125.0   \n",
       "4  Alcúdia power station  coal   Spain  Phase 2 Unit 3  operating     130.0   \n",
       "\n",
       "   start_year        owner       lat      lng  \\\n",
       "0      1974.0   HC Energia  43.55356 -5.72185   \n",
       "1      1985.0   HC Energia  43.55356 -5.72185   \n",
       "2      1981.0  GESA-Endesa  39.81075  3.09141   \n",
       "3      1982.0  GESA-Endesa  39.81075  3.09141   \n",
       "4      1997.0  GESA-Endesa  39.81075  3.09141   \n",
       "\n",
       "                                             url      aacc  \n",
       "0  https://www.gem.wiki/Abo%C3%B1o_power_station  Asturias  \n",
       "1  https://www.gem.wiki/Abo%C3%B1o_power_station  Asturias  \n",
       "2     https://www.gem.wiki/Alcúdia_power_station  Baleares  \n",
       "3     https://www.gem.wiki/Alcúdia_power_station  Baleares  \n",
       "4     https://www.gem.wiki/Alcúdia_power_station  Baleares  "
      ]
     },
     "execution_count": 43,
     "metadata": {},
     "output_type": "execute_result"
    }
   ],
   "source": [
    "spain_global.head()"
   ]
  },
  {
   "cell_type": "code",
   "execution_count": 44,
   "id": "931201e1",
   "metadata": {},
   "outputs": [
    {
     "data": {
      "text/html": [
       "<div>\n",
       "<style scoped>\n",
       "    .dataframe tbody tr th:only-of-type {\n",
       "        vertical-align: middle;\n",
       "    }\n",
       "\n",
       "    .dataframe tbody tr th {\n",
       "        vertical-align: top;\n",
       "    }\n",
       "\n",
       "    .dataframe thead th {\n",
       "        text-align: right;\n",
       "    }\n",
       "</style>\n",
       "<table border=\"1\" class=\"dataframe\">\n",
       "  <thead>\n",
       "    <tr style=\"text-align: right;\">\n",
       "      <th></th>\n",
       "      <th>Unnamed: 0</th>\n",
       "      <th>class</th>\n",
       "      <th>type</th>\n",
       "      <th>date</th>\n",
       "      <th>value</th>\n",
       "      <th>percentage</th>\n",
       "      <th>aacc</th>\n",
       "    </tr>\n",
       "  </thead>\n",
       "  <tbody>\n",
       "    <tr>\n",
       "      <th>0</th>\n",
       "      <td>0</td>\n",
       "      <td>Hidráulica</td>\n",
       "      <td>Renovable</td>\n",
       "      <td>2014-01-01</td>\n",
       "      <td>303.396</td>\n",
       "      <td>0.000421</td>\n",
       "      <td>Canarias</td>\n",
       "    </tr>\n",
       "    <tr>\n",
       "      <th>1</th>\n",
       "      <td>1</td>\n",
       "      <td>Motores diésel</td>\n",
       "      <td>No-Renovable</td>\n",
       "      <td>2014-01-01</td>\n",
       "      <td>181768.586</td>\n",
       "      <td>0.251957</td>\n",
       "      <td>Canarias</td>\n",
       "    </tr>\n",
       "    <tr>\n",
       "      <th>2</th>\n",
       "      <td>2</td>\n",
       "      <td>Turbina de gas</td>\n",
       "      <td>No-Renovable</td>\n",
       "      <td>2014-01-01</td>\n",
       "      <td>26245.404</td>\n",
       "      <td>0.036380</td>\n",
       "      <td>Canarias</td>\n",
       "    </tr>\n",
       "    <tr>\n",
       "      <th>3</th>\n",
       "      <td>3</td>\n",
       "      <td>Turbina de vapor</td>\n",
       "      <td>No-Renovable</td>\n",
       "      <td>2014-01-01</td>\n",
       "      <td>216697.507</td>\n",
       "      <td>0.300373</td>\n",
       "      <td>Canarias</td>\n",
       "    </tr>\n",
       "    <tr>\n",
       "      <th>4</th>\n",
       "      <td>4</td>\n",
       "      <td>Ciclo combinado</td>\n",
       "      <td>No-Renovable</td>\n",
       "      <td>2014-01-01</td>\n",
       "      <td>247173.544</td>\n",
       "      <td>0.342618</td>\n",
       "      <td>Canarias</td>\n",
       "    </tr>\n",
       "  </tbody>\n",
       "</table>\n",
       "</div>"
      ],
      "text/plain": [
       "   Unnamed: 0             class          type        date       value  \\\n",
       "0           0        Hidráulica     Renovable  2014-01-01     303.396   \n",
       "1           1    Motores diésel  No-Renovable  2014-01-01  181768.586   \n",
       "2           2    Turbina de gas  No-Renovable  2014-01-01   26245.404   \n",
       "3           3  Turbina de vapor  No-Renovable  2014-01-01  216697.507   \n",
       "4           4   Ciclo combinado  No-Renovable  2014-01-01  247173.544   \n",
       "\n",
       "   percentage      aacc  \n",
       "0    0.000421  Canarias  \n",
       "1    0.251957  Canarias  \n",
       "2    0.036380  Canarias  \n",
       "3    0.300373  Canarias  \n",
       "4    0.342618  Canarias  "
      ]
     },
     "execution_count": 44,
     "metadata": {},
     "output_type": "execute_result"
    }
   ],
   "source": [
    "gen.head()"
   ]
  },
  {
   "cell_type": "code",
   "execution_count": 45,
   "id": "f8cc067d",
   "metadata": {
    "scrolled": true
   },
   "outputs": [
    {
     "data": {
      "text/html": [
       "<div>\n",
       "<style scoped>\n",
       "    .dataframe tbody tr th:only-of-type {\n",
       "        vertical-align: middle;\n",
       "    }\n",
       "\n",
       "    .dataframe tbody tr th {\n",
       "        vertical-align: top;\n",
       "    }\n",
       "\n",
       "    .dataframe thead th {\n",
       "        text-align: right;\n",
       "    }\n",
       "</style>\n",
       "<table border=\"1\" class=\"dataframe\">\n",
       "  <thead>\n",
       "    <tr style=\"text-align: right;\">\n",
       "      <th></th>\n",
       "      <th>Unnamed: 0</th>\n",
       "      <th>class</th>\n",
       "      <th>type</th>\n",
       "      <th>date</th>\n",
       "      <th>value</th>\n",
       "      <th>percentage</th>\n",
       "      <th>aacc</th>\n",
       "    </tr>\n",
       "  </thead>\n",
       "  <tbody>\n",
       "    <tr>\n",
       "      <th>0</th>\n",
       "      <td>0</td>\n",
       "      <td>Demanda</td>\n",
       "      <td>NaN</td>\n",
       "      <td>2014-01-01</td>\n",
       "      <td>721426.992</td>\n",
       "      <td>1</td>\n",
       "      <td>Canarias</td>\n",
       "    </tr>\n",
       "    <tr>\n",
       "      <th>1</th>\n",
       "      <td>1</td>\n",
       "      <td>Demanda</td>\n",
       "      <td>NaN</td>\n",
       "      <td>2014-01-01</td>\n",
       "      <td>424810.960</td>\n",
       "      <td>1</td>\n",
       "      <td>Baleares</td>\n",
       "    </tr>\n",
       "    <tr>\n",
       "      <th>2</th>\n",
       "      <td>2</td>\n",
       "      <td>Demanda</td>\n",
       "      <td>NaN</td>\n",
       "      <td>2014-01-01</td>\n",
       "      <td>18805.790</td>\n",
       "      <td>1</td>\n",
       "      <td>Ceuta</td>\n",
       "    </tr>\n",
       "    <tr>\n",
       "      <th>3</th>\n",
       "      <td>3</td>\n",
       "      <td>Demanda</td>\n",
       "      <td>NaN</td>\n",
       "      <td>2014-01-01</td>\n",
       "      <td>17999.596</td>\n",
       "      <td>1</td>\n",
       "      <td>Melilla</td>\n",
       "    </tr>\n",
       "    <tr>\n",
       "      <th>4</th>\n",
       "      <td>4</td>\n",
       "      <td>Demanda</td>\n",
       "      <td>NaN</td>\n",
       "      <td>2014-01-01</td>\n",
       "      <td>3406748.087</td>\n",
       "      <td>1</td>\n",
       "      <td>Andalucía</td>\n",
       "    </tr>\n",
       "  </tbody>\n",
       "</table>\n",
       "</div>"
      ],
      "text/plain": [
       "   Unnamed: 0    class  type        date        value  percentage       aacc\n",
       "0           0  Demanda   NaN  2014-01-01   721426.992           1   Canarias\n",
       "1           1  Demanda   NaN  2014-01-01   424810.960           1   Baleares\n",
       "2           2  Demanda   NaN  2014-01-01    18805.790           1      Ceuta\n",
       "3           3  Demanda   NaN  2014-01-01    17999.596           1    Melilla\n",
       "4           4  Demanda   NaN  2014-01-01  3406748.087           1  Andalucía"
      ]
     },
     "execution_count": 45,
     "metadata": {},
     "output_type": "execute_result"
    }
   ],
   "source": [
    "demand.head()"
   ]
  },
  {
   "cell_type": "code",
   "execution_count": 46,
   "id": "428556da",
   "metadata": {
    "scrolled": true
   },
   "outputs": [
    {
     "data": {
      "text/html": [
       "<div>\n",
       "<style scoped>\n",
       "    .dataframe tbody tr th:only-of-type {\n",
       "        vertical-align: middle;\n",
       "    }\n",
       "\n",
       "    .dataframe tbody tr th {\n",
       "        vertical-align: top;\n",
       "    }\n",
       "\n",
       "    .dataframe thead th {\n",
       "        text-align: right;\n",
       "    }\n",
       "</style>\n",
       "<table border=\"1\" class=\"dataframe\">\n",
       "  <thead>\n",
       "    <tr style=\"text-align: right;\">\n",
       "      <th></th>\n",
       "      <th>project</th>\n",
       "      <th>type</th>\n",
       "      <th>country</th>\n",
       "      <th>unit</th>\n",
       "      <th>status</th>\n",
       "      <th>capacity</th>\n",
       "      <th>start_year</th>\n",
       "      <th>owner</th>\n",
       "      <th>lat</th>\n",
       "      <th>lng</th>\n",
       "      <th>url</th>\n",
       "    </tr>\n",
       "  </thead>\n",
       "  <tbody>\n",
       "    <tr>\n",
       "      <th>25927</th>\n",
       "      <td>Bui Hydro Dam solar farm</td>\n",
       "      <td>solar</td>\n",
       "      <td>Ghana</td>\n",
       "      <td>MW</td>\n",
       "      <td>announced</td>\n",
       "      <td>60.0</td>\n",
       "      <td>NaN</td>\n",
       "      <td>Bui Power Authority (BPA)</td>\n",
       "      <td>5.6221</td>\n",
       "      <td>-0.176</td>\n",
       "      <td>https://gem.wiki/Bui_Hydro_Dam_solar_farm</td>\n",
       "    </tr>\n",
       "  </tbody>\n",
       "</table>\n",
       "</div>"
      ],
      "text/plain": [
       "                        project   type country unit     status  capacity  \\\n",
       "25927  Bui Hydro Dam solar farm  solar   Ghana   MW  announced      60.0   \n",
       "\n",
       "      start_year                      owner     lat    lng  \\\n",
       "25927        NaN  Bui Power Authority (BPA)  5.6221 -0.176   \n",
       "\n",
       "                                             url  \n",
       "25927  https://gem.wiki/Bui_Hydro_Dam_solar_farm  "
      ]
     },
     "execution_count": 46,
     "metadata": {},
     "output_type": "execute_result"
    }
   ],
   "source": [
    "global_web.sample()"
   ]
  },
  {
   "cell_type": "code",
   "execution_count": 47,
   "id": "ee7c9563",
   "metadata": {
    "scrolled": true
   },
   "outputs": [
    {
     "data": {
      "text/html": [
       "<div>\n",
       "<style scoped>\n",
       "    .dataframe tbody tr th:only-of-type {\n",
       "        vertical-align: middle;\n",
       "    }\n",
       "\n",
       "    .dataframe tbody tr th {\n",
       "        vertical-align: top;\n",
       "    }\n",
       "\n",
       "    .dataframe thead th {\n",
       "        text-align: right;\n",
       "    }\n",
       "</style>\n",
       "<table border=\"1\" class=\"dataframe\">\n",
       "  <thead>\n",
       "    <tr style=\"text-align: right;\">\n",
       "      <th></th>\n",
       "      <th>DEMARCACIÓN HIDROGRÁFICA TERRESTRE</th>\n",
       "      <th>Superficie total de los embalses de la Demaración Hidrográfica- km2</th>\n",
       "      <th>aacc</th>\n",
       "    </tr>\n",
       "  </thead>\n",
       "  <tbody>\n",
       "    <tr>\n",
       "      <th>23</th>\n",
       "      <td>EL HIERRO</td>\n",
       "      <td>0.0</td>\n",
       "      <td>Canarias</td>\n",
       "    </tr>\n",
       "  </tbody>\n",
       "</table>\n",
       "</div>"
      ],
      "text/plain": [
       "   DEMARCACIÓN HIDROGRÁFICA TERRESTRE  \\\n",
       "23                          EL HIERRO   \n",
       "\n",
       "    Superficie total de los embalses de la Demaración Hidrográfica- km2  \\\n",
       "23                                                0.0                     \n",
       "\n",
       "        aacc  \n",
       "23  Canarias  "
      ]
     },
     "execution_count": 47,
     "metadata": {},
     "output_type": "execute_result"
    }
   ],
   "source": [
    "reservoir.sample()"
   ]
  },
  {
   "cell_type": "markdown",
   "id": "f711adad",
   "metadata": {},
   "source": [
    "## CLEANING DATA"
   ]
  },
  {
   "cell_type": "markdown",
   "id": "b3cc2aa3",
   "metadata": {},
   "source": [
    "#### 1- MATCH AUTONOMOUS COMMUNITIES\n",
    "\n",
    " We will do this in two steps: \n",
    " \n",
    "     1- use the same column name in all the dataframes\n",
    "     2- make a dictionary to be apply if necessary to the dataframes to standarize autonomous communities names"
   ]
  },
  {
   "cell_type": "code",
   "execution_count": 51,
   "id": "f98dd4c6",
   "metadata": {},
   "outputs": [],
   "source": [
    "spain_global.rename(columns={'ccaa':'aacc'}, inplace = True)"
   ]
  },
  {
   "cell_type": "code",
   "execution_count": 54,
   "id": "b57eccfc",
   "metadata": {},
   "outputs": [],
   "source": [
    "gen.rename(columns={\"comunidad\":'aacc'}, inplace = True)"
   ]
  },
  {
   "cell_type": "code",
   "execution_count": 60,
   "id": "304620b6",
   "metadata": {},
   "outputs": [],
   "source": [
    "aacc_dicc = {'Castilla_León': 'Castilla-Leon', \n",
    "             'Andalucía':'Andalucia',\n",
    "             'Aragón':'Aragon',\n",
    "            'País_Vasco':'Pais Vasco',\n",
    "             'Castilla_la_Mancha':'Castilla-La Mancha', \n",
    "             'La_Rioja':'La Rioja',\n",
    "             'Valenciana':'Valencia' }"
   ]
  },
  {
   "cell_type": "code",
   "execution_count": 61,
   "id": "876accf4",
   "metadata": {},
   "outputs": [],
   "source": [
    "spain_global['aacc'] = spain_global['aacc'].replace(aacc_dicc)"
   ]
  },
  {
   "cell_type": "code",
   "execution_count": 62,
   "id": "a0a8fcd7",
   "metadata": {},
   "outputs": [],
   "source": [
    "demand['aacc'] = demand['aacc'].replace(aacc_dicc)"
   ]
  },
  {
   "cell_type": "code",
   "execution_count": 63,
   "id": "8d262d1e",
   "metadata": {},
   "outputs": [],
   "source": [
    "gen['aacc'] = gen['aacc'].replace(aacc_dicc)"
   ]
  },
  {
   "cell_type": "markdown",
   "id": "21009623",
   "metadata": {},
   "source": [
    "#### 2- 'date' columns to datetype"
   ]
  },
  {
   "cell_type": "code",
   "execution_count": 64,
   "id": "6e8fa849",
   "metadata": {},
   "outputs": [],
   "source": [
    "gen['date'] = pd.to_datetime(gen['date'])"
   ]
  },
  {
   "cell_type": "code",
   "execution_count": 65,
   "id": "4f6d0fda",
   "metadata": {},
   "outputs": [],
   "source": [
    "demand['date'] = pd.to_datetime(demand['date'])"
   ]
  },
  {
   "cell_type": "markdown",
   "id": "75d6ddf7",
   "metadata": {},
   "source": [
    "#### 3- type  of energy\n",
    "\n",
    "Check the name of the types of energy in all dataframes:"
   ]
  },
  {
   "cell_type": "code",
   "execution_count": 68,
   "id": "367accf4",
   "metadata": {},
   "outputs": [
    {
     "data": {
      "text/plain": [
       "array(['coal', 'oil_gas', 'solar', 'wind', 'hydropower', 'geothermal',\n",
       "       'bioenergy', 'nuclear'], dtype=object)"
      ]
     },
     "execution_count": 68,
     "metadata": {},
     "output_type": "execute_result"
    }
   ],
   "source": [
    "global_web['type'].unique()"
   ]
  },
  {
   "cell_type": "code",
   "execution_count": 69,
   "id": "db4b7359",
   "metadata": {
    "scrolled": true
   },
   "outputs": [
    {
     "data": {
      "text/plain": [
       "array(['coal', 'oil_gas', 'solar', 'wind', 'hydropower', 'bioenergy',\n",
       "       'nuclear'], dtype=object)"
      ]
     },
     "execution_count": 69,
     "metadata": {},
     "output_type": "execute_result"
    }
   ],
   "source": [
    "spain_global['type'].unique()"
   ]
  },
  {
   "cell_type": "code",
   "execution_count": 70,
   "id": "fa57c81f",
   "metadata": {},
   "outputs": [
    {
     "data": {
      "text/plain": [
       "array(['Hidráulica', 'Motores diésel', 'Turbina de gas',\n",
       "       'Turbina de vapor', 'Ciclo combinado', 'Hidroeólica', 'Eólica',\n",
       "       'Solar fotovoltaica', 'Otras renovables', 'Generación total',\n",
       "       'Carbón', 'Cogeneración', 'Residuos no renovables',\n",
       "       'Residuos renovables', 'Turbinación bombeo', 'Solar térmica',\n",
       "       'Nuclear', 'Fuel + Gas'], dtype=object)"
      ]
     },
     "execution_count": 70,
     "metadata": {},
     "output_type": "execute_result"
    }
   ],
   "source": [
    "gen['class'].unique()"
   ]
  },
  {
   "cell_type": "markdown",
   "id": "7194a982",
   "metadata": {},
   "source": [
    " we will try to unify as much as possible energies from gen dataframe and spain_global so , in order to do so we will:\n",
    " \n",
    "     - change the name of the column 'type' in spain_global to class\n",
    "     - consider both 'Solar Fotovoltaica' and 'Solar térmica' as 'solar'\n",
    "  on the other hand we will create a dicctionary to replace names and unify whenever possible"
   ]
  },
  {
   "cell_type": "code",
   "execution_count": 71,
   "id": "bc7e166f",
   "metadata": {},
   "outputs": [],
   "source": [
    "spain_global.rename(columns ={'type':'class'}, inplace = True)"
   ]
  },
  {
   "cell_type": "code",
   "execution_count": 72,
   "id": "13d23b6e",
   "metadata": {},
   "outputs": [],
   "source": [
    "energy_dicc = {\n",
    "    'Solar fotovoltaica':'solar',\n",
    "    'Solar térmica': 'solar',\n",
    "    'Hidroeólica':'hydropower',\n",
    "    'Eolica': 'wind',\n",
    "    'Carbón' : 'coal',\n",
    "    'Nuclear' : 'nuclear',\n",
    "    'Motores diésel':'oil_gas',\n",
    "    'Turbina de gas':'oil_gas',\n",
    "    'Turbina de vapor':'oil_gas',\n",
    "    'Ciclo combinado':'oil_gas',\n",
    "    'Otras renovables' : 'bioenergy',\n",
    "    'Generación total' : 'others',\n",
    "    'Cogeneración' : 'oil_gas',\n",
    "    'Residuos no renovables': 'coal',\n",
    "    'Residuos renovables':'bioenergy',\n",
    "    'Turbinación bombeo':'hydropower',\n",
    "    'Fuel + Gas' : 'oil_gas'\n",
    "    }"
   ]
  },
  {
   "cell_type": "code",
   "execution_count": 73,
   "id": "456e8fe2",
   "metadata": {},
   "outputs": [],
   "source": [
    "gen['class'] = gen['class'].map(energy_dicc)"
   ]
  },
  {
   "cell_type": "markdown",
   "id": "8243bf0f",
   "metadata": {},
   "source": [
    "#### 4- units"
   ]
  },
  {
   "cell_type": "markdown",
   "id": "61a0e53c",
   "metadata": {},
   "source": [
    "According to the REE API, units for their values are MWh. In `spain_global`, not always are units given, and if they are, they are in MW. Therefore, to convert from MW to MWh, we simply need to multiply by the number of hours. As all requests to REE have been made for each month, we will multiply the capacity in `spain_global` by 720 (30 days * 24 hours) to unify units. After that, we will standardize all units to MWh in all dataframes for better understanding."
   ]
  },
  {
   "cell_type": "code",
   "execution_count": 75,
   "id": "75d14adb",
   "metadata": {},
   "outputs": [],
   "source": [
    "spain_global['capacity'] = spain_global['capacity'] * 720"
   ]
  },
  {
   "cell_type": "code",
   "execution_count": 76,
   "id": "f07a78af",
   "metadata": {},
   "outputs": [],
   "source": [
    "global_web['capacity'] = global_web['capacity'] * 720"
   ]
  },
  {
   "cell_type": "code",
   "execution_count": 77,
   "id": "1f143fd4",
   "metadata": {},
   "outputs": [],
   "source": [
    "gen['unit'] = 'MWh'\n",
    "demand['unit'] = 'MWh'\n",
    "spain_global['unit'] = 'MWh'\n",
    "global_web['unit'] = 'MWh'"
   ]
  },
  {
   "cell_type": "markdown",
   "id": "3b82165a",
   "metadata": {},
   "source": [
    "#### 5- change columns names\n",
    "\n",
    "Dataset \"reservoir\" has too long column names. We will replace them to shorter names."
   ]
  },
  {
   "cell_type": "code",
   "execution_count": 78,
   "id": "ad27dedd",
   "metadata": {},
   "outputs": [],
   "source": [
    "dicc = {'DEMARCACIÓN HIDROGRÁFICA TERRESTRE':'zone',\n",
    "       'Superficie total de los embalses de la Demaración Hidrográfica- km2' : 'surface_km_2'\n",
    "        }"
   ]
  },
  {
   "cell_type": "code",
   "execution_count": 79,
   "id": "5f9aa6cc",
   "metadata": {},
   "outputs": [],
   "source": [
    "reservoir.columns = reservoir.columns.str.strip().map(lambda x: dicc.get(x, x))"
   ]
  },
  {
   "cell_type": "code",
   "execution_count": 80,
   "id": "ae845bab",
   "metadata": {},
   "outputs": [
    {
     "data": {
      "text/html": [
       "<div>\n",
       "<style scoped>\n",
       "    .dataframe tbody tr th:only-of-type {\n",
       "        vertical-align: middle;\n",
       "    }\n",
       "\n",
       "    .dataframe tbody tr th {\n",
       "        vertical-align: top;\n",
       "    }\n",
       "\n",
       "    .dataframe thead th {\n",
       "        text-align: right;\n",
       "    }\n",
       "</style>\n",
       "<table border=\"1\" class=\"dataframe\">\n",
       "  <thead>\n",
       "    <tr style=\"text-align: right;\">\n",
       "      <th></th>\n",
       "      <th>zone</th>\n",
       "      <th>surface_km_2</th>\n",
       "      <th>aacc</th>\n",
       "    </tr>\n",
       "  </thead>\n",
       "  <tbody>\n",
       "    <tr>\n",
       "      <th>14</th>\n",
       "      <td>EBRO</td>\n",
       "      <td>210.2</td>\n",
       "      <td>Aragon</td>\n",
       "    </tr>\n",
       "  </tbody>\n",
       "</table>\n",
       "</div>"
      ],
      "text/plain": [
       "    zone  surface_km_2    aacc\n",
       "14  EBRO         210.2  Aragon"
      ]
     },
     "execution_count": 80,
     "metadata": {},
     "output_type": "execute_result"
    }
   ],
   "source": [
    "reservoir.sample()"
   ]
  },
  {
   "cell_type": "markdown",
   "id": "b198a596",
   "metadata": {},
   "source": [
    "## SAVING AS CSV FILES"
   ]
  },
  {
   "cell_type": "code",
   "execution_count": 81,
   "id": "89a06977",
   "metadata": {},
   "outputs": [],
   "source": [
    "gen.to_csv(\"data/gen.csv\", index = False)\n",
    "demand.to_csv('data/demand.csv', index = False)\n",
    "spain_global.to_csv('data/spain_global.csv', index = False)\n",
    "global_web.to_csv('data/global_web.csv', index = False)\n",
    "reservoir.to_csv('data/reservoir.csv', index = False)"
   ]
  }
 ],
 "metadata": {
  "kernelspec": {
   "display_name": "ironhack",
   "language": "python",
   "name": "ironhack"
  },
  "language_info": {
   "codemirror_mode": {
    "name": "ipython",
    "version": 3
   },
   "file_extension": ".py",
   "mimetype": "text/x-python",
   "name": "python",
   "nbconvert_exporter": "python",
   "pygments_lexer": "ipython3",
   "version": "3.11.5"
  }
 },
 "nbformat": 4,
 "nbformat_minor": 5
}
