{
 "cells": [
  {
   "cell_type": "code",
   "execution_count": 1,
   "id": "c529ff29",
   "metadata": {},
   "outputs": [],
   "source": [
    "import pandas as pd"
   ]
  },
  {
   "cell_type": "markdown",
   "id": "976e67e9",
   "metadata": {},
   "source": [
    "## Calculate solar production over reservoirs "
   ]
  },
  {
   "cell_type": "markdown",
   "id": "ace2cf15",
   "metadata": {},
   "source": [
    "In order to do so we will stablished 30% of the reservoir covered by solar pannels"
   ]
  },
  {
   "cell_type": "code",
   "execution_count": 25,
   "id": "a03a8680",
   "metadata": {},
   "outputs": [
    {
     "data": {
      "text/html": [
       "<div>\n",
       "<style scoped>\n",
       "    .dataframe tbody tr th:only-of-type {\n",
       "        vertical-align: middle;\n",
       "    }\n",
       "\n",
       "    .dataframe tbody tr th {\n",
       "        vertical-align: top;\n",
       "    }\n",
       "\n",
       "    .dataframe thead th {\n",
       "        text-align: right;\n",
       "    }\n",
       "</style>\n",
       "<table border=\"1\" class=\"dataframe\">\n",
       "  <thead>\n",
       "    <tr style=\"text-align: right;\">\n",
       "      <th></th>\n",
       "      <th>DEMARCACIÓN HIDROGRÁFICA TERRESTRE</th>\n",
       "      <th>Superficie total de los embalses de la Demaración Hidrográfica- km2</th>\n",
       "      <th>aacc</th>\n",
       "    </tr>\n",
       "  </thead>\n",
       "  <tbody>\n",
       "    <tr>\n",
       "      <th>0</th>\n",
       "      <td>MIÑO-SIL</td>\n",
       "      <td>121.82</td>\n",
       "      <td>Galicia</td>\n",
       "    </tr>\n",
       "    <tr>\n",
       "      <th>1</th>\n",
       "      <td>GALICIA COSTA</td>\n",
       "      <td>43.81</td>\n",
       "      <td>Galicia</td>\n",
       "    </tr>\n",
       "    <tr>\n",
       "      <th>2</th>\n",
       "      <td>CUENCAS INTERNAS PAIS VASCO</td>\n",
       "      <td>1.89</td>\n",
       "      <td>Pais Vasco</td>\n",
       "    </tr>\n",
       "    <tr>\n",
       "      <th>3</th>\n",
       "      <td>CANTÁBRICO</td>\n",
       "      <td>26.78</td>\n",
       "      <td>Cantabria</td>\n",
       "    </tr>\n",
       "    <tr>\n",
       "      <th>4</th>\n",
       "      <td>DUERO</td>\n",
       "      <td>348.72</td>\n",
       "      <td>Castilla-Leon</td>\n",
       "    </tr>\n",
       "    <tr>\n",
       "      <th>5</th>\n",
       "      <td>TAJO</td>\n",
       "      <td>570.21</td>\n",
       "      <td>Extremadura</td>\n",
       "    </tr>\n",
       "    <tr>\n",
       "      <th>6</th>\n",
       "      <td>GUADIANA</td>\n",
       "      <td>864.94</td>\n",
       "      <td>Extremadura</td>\n",
       "    </tr>\n",
       "    <tr>\n",
       "      <th>7</th>\n",
       "      <td>GUADALQUIVIR</td>\n",
       "      <td>376.79</td>\n",
       "      <td>Andalucia</td>\n",
       "    </tr>\n",
       "    <tr>\n",
       "      <th>8</th>\n",
       "      <td>CUENCAS MEDITERRÁNEAS ANDALUZAS</td>\n",
       "      <td>56.85</td>\n",
       "      <td>Andalucia</td>\n",
       "    </tr>\n",
       "    <tr>\n",
       "      <th>9</th>\n",
       "      <td>GUADALETE Y BARBATE</td>\n",
       "      <td>112.32</td>\n",
       "      <td>Andalucia</td>\n",
       "    </tr>\n",
       "    <tr>\n",
       "      <th>10</th>\n",
       "      <td>TINTO,ODIEL Y PIEDRAS</td>\n",
       "      <td>29.76</td>\n",
       "      <td>Andalucia</td>\n",
       "    </tr>\n",
       "    <tr>\n",
       "      <th>11</th>\n",
       "      <td>SEGURA</td>\n",
       "      <td>70.45</td>\n",
       "      <td>Murcia</td>\n",
       "    </tr>\n",
       "    <tr>\n",
       "      <th>12</th>\n",
       "      <td>JUCAR</td>\n",
       "      <td>170.99</td>\n",
       "      <td>Valencia</td>\n",
       "    </tr>\n",
       "    <tr>\n",
       "      <th>13</th>\n",
       "      <td>ALTO EBRO</td>\n",
       "      <td>211.91</td>\n",
       "      <td>Cantabria</td>\n",
       "    </tr>\n",
       "    <tr>\n",
       "      <th>14</th>\n",
       "      <td>EBRO</td>\n",
       "      <td>210.20</td>\n",
       "      <td>Aragon</td>\n",
       "    </tr>\n",
       "    <tr>\n",
       "      <th>15</th>\n",
       "      <td>CUENCAS INTERNAS DE CATALUÑA</td>\n",
       "      <td>25.25</td>\n",
       "      <td>Cataluña</td>\n",
       "    </tr>\n",
       "    <tr>\n",
       "      <th>16</th>\n",
       "      <td>BALEARES</td>\n",
       "      <td>1.17</td>\n",
       "      <td>Baleares</td>\n",
       "    </tr>\n",
       "    <tr>\n",
       "      <th>17</th>\n",
       "      <td>GRAN CANARIA</td>\n",
       "      <td>3.60</td>\n",
       "      <td>Canarias</td>\n",
       "    </tr>\n",
       "    <tr>\n",
       "      <th>18</th>\n",
       "      <td>FUERTEVENTURA</td>\n",
       "      <td>0.20</td>\n",
       "      <td>Canarias</td>\n",
       "    </tr>\n",
       "    <tr>\n",
       "      <th>19</th>\n",
       "      <td>LANZAROTE</td>\n",
       "      <td>0.01</td>\n",
       "      <td>Canarias</td>\n",
       "    </tr>\n",
       "    <tr>\n",
       "      <th>20</th>\n",
       "      <td>TENERIFE</td>\n",
       "      <td>0.80</td>\n",
       "      <td>Canarias</td>\n",
       "    </tr>\n",
       "    <tr>\n",
       "      <th>21</th>\n",
       "      <td>LA PALMA</td>\n",
       "      <td>0.26</td>\n",
       "      <td>Canarias</td>\n",
       "    </tr>\n",
       "    <tr>\n",
       "      <th>22</th>\n",
       "      <td>GOMERA</td>\n",
       "      <td>0.30</td>\n",
       "      <td>Canarias</td>\n",
       "    </tr>\n",
       "    <tr>\n",
       "      <th>23</th>\n",
       "      <td>EL HIERRO</td>\n",
       "      <td>0.00</td>\n",
       "      <td>Canarias</td>\n",
       "    </tr>\n",
       "    <tr>\n",
       "      <th>24</th>\n",
       "      <td>CEUTA</td>\n",
       "      <td>0.15</td>\n",
       "      <td>Ceuta</td>\n",
       "    </tr>\n",
       "  </tbody>\n",
       "</table>\n",
       "</div>"
      ],
      "text/plain": [
       "   DEMARCACIÓN HIDROGRÁFICA TERRESTRE  \\\n",
       "0                            MIÑO-SIL   \n",
       "1                       GALICIA COSTA   \n",
       "2         CUENCAS INTERNAS PAIS VASCO   \n",
       "3                          CANTÁBRICO   \n",
       "4                               DUERO   \n",
       "5                                TAJO   \n",
       "6                            GUADIANA   \n",
       "7                        GUADALQUIVIR   \n",
       "8     CUENCAS MEDITERRÁNEAS ANDALUZAS   \n",
       "9                 GUADALETE Y BARBATE   \n",
       "10              TINTO,ODIEL Y PIEDRAS   \n",
       "11                             SEGURA   \n",
       "12                              JUCAR   \n",
       "13                          ALTO EBRO   \n",
       "14                               EBRO   \n",
       "15       CUENCAS INTERNAS DE CATALUÑA   \n",
       "16                           BALEARES   \n",
       "17                       GRAN CANARIA   \n",
       "18                      FUERTEVENTURA   \n",
       "19                          LANZAROTE   \n",
       "20                           TENERIFE   \n",
       "21                           LA PALMA   \n",
       "22                             GOMERA   \n",
       "23                          EL HIERRO   \n",
       "24                              CEUTA   \n",
       "\n",
       "    Superficie total de los embalses de la Demaración Hidrográfica- km2  \\\n",
       "0                                              121.82                     \n",
       "1                                               43.81                     \n",
       "2                                                1.89                     \n",
       "3                                               26.78                     \n",
       "4                                              348.72                     \n",
       "5                                              570.21                     \n",
       "6                                              864.94                     \n",
       "7                                              376.79                     \n",
       "8                                               56.85                     \n",
       "9                                              112.32                     \n",
       "10                                              29.76                     \n",
       "11                                              70.45                     \n",
       "12                                             170.99                     \n",
       "13                                             211.91                     \n",
       "14                                             210.20                     \n",
       "15                                              25.25                     \n",
       "16                                               1.17                     \n",
       "17                                               3.60                     \n",
       "18                                               0.20                     \n",
       "19                                               0.01                     \n",
       "20                                               0.80                     \n",
       "21                                               0.26                     \n",
       "22                                               0.30                     \n",
       "23                                               0.00                     \n",
       "24                                               0.15                     \n",
       "\n",
       "             aacc  \n",
       "0         Galicia  \n",
       "1         Galicia  \n",
       "2      Pais Vasco  \n",
       "3       Cantabria  \n",
       "4   Castilla-Leon  \n",
       "5     Extremadura  \n",
       "6     Extremadura  \n",
       "7       Andalucia  \n",
       "8       Andalucia  \n",
       "9       Andalucia  \n",
       "10      Andalucia  \n",
       "11         Murcia  \n",
       "12       Valencia  \n",
       "13      Cantabria  \n",
       "14         Aragon  \n",
       "15       Cataluña  \n",
       "16       Baleares  \n",
       "17       Canarias  \n",
       "18       Canarias  \n",
       "19       Canarias  \n",
       "20       Canarias  \n",
       "21       Canarias  \n",
       "22       Canarias  \n",
       "23       Canarias  \n",
       "24          Ceuta  "
      ]
     },
     "execution_count": 25,
     "metadata": {},
     "output_type": "execute_result"
    }
   ],
   "source": [
    "reservoir  = pd.read_excel('data/Embalses.xlsx')\n",
    "reservoir "
   ]
  },
  {
   "cell_type": "code",
   "execution_count": 29,
   "id": "dd1ebf64",
   "metadata": {},
   "outputs": [],
   "source": [
    "dicc = {'DEMARCACIÓN HIDROGRÁFICA TERRESTRE':'zone',\n",
    "       'Superficie total de los embalses de la Demaración Hidrográfica- km2' : 'surface_km_2'\n",
    "        }"
   ]
  },
  {
   "cell_type": "code",
   "execution_count": 30,
   "id": "aa750dd6",
   "metadata": {},
   "outputs": [],
   "source": [
    "reservoir.columns = reservoir.columns.str.strip().map(lambda x: dicc.get(x, x))\n"
   ]
  },
  {
   "cell_type": "code",
   "execution_count": 31,
   "id": "dc6a615e",
   "metadata": {},
   "outputs": [
    {
     "data": {
      "text/plain": [
       "Index(['zone', 'surface_km_2', 'aacc'], dtype='object')"
      ]
     },
     "execution_count": 31,
     "metadata": {},
     "output_type": "execute_result"
    }
   ],
   "source": [
    "reservoir.columns"
   ]
  },
  {
   "cell_type": "code",
   "execution_count": 33,
   "id": "df374aa0",
   "metadata": {
    "scrolled": true
   },
   "outputs": [],
   "source": [
    "reservoir['03_sufr'] = reservoir['surface_km_2']*0.3"
   ]
  },
  {
   "cell_type": "code",
   "execution_count": 34,
   "id": "d1845cbf",
   "metadata": {},
   "outputs": [
    {
     "data": {
      "text/html": [
       "<div>\n",
       "<style scoped>\n",
       "    .dataframe tbody tr th:only-of-type {\n",
       "        vertical-align: middle;\n",
       "    }\n",
       "\n",
       "    .dataframe tbody tr th {\n",
       "        vertical-align: top;\n",
       "    }\n",
       "\n",
       "    .dataframe thead th {\n",
       "        text-align: right;\n",
       "    }\n",
       "</style>\n",
       "<table border=\"1\" class=\"dataframe\">\n",
       "  <thead>\n",
       "    <tr style=\"text-align: right;\">\n",
       "      <th></th>\n",
       "      <th>zone</th>\n",
       "      <th>surface_km_2</th>\n",
       "      <th>aacc</th>\n",
       "      <th>03_sufr</th>\n",
       "    </tr>\n",
       "  </thead>\n",
       "  <tbody>\n",
       "    <tr>\n",
       "      <th>5</th>\n",
       "      <td>TAJO</td>\n",
       "      <td>570.21</td>\n",
       "      <td>Extremadura</td>\n",
       "      <td>171.063</td>\n",
       "    </tr>\n",
       "  </tbody>\n",
       "</table>\n",
       "</div>"
      ],
      "text/plain": [
       "   zone  surface_km_2         aacc  03_sufr\n",
       "5  TAJO        570.21  Extremadura  171.063"
      ]
     },
     "execution_count": 34,
     "metadata": {},
     "output_type": "execute_result"
    }
   ],
   "source": [
    "reservoir.sample()"
   ]
  },
  {
   "cell_type": "markdown",
   "id": "80fa65da",
   "metadata": {},
   "source": [
    "Average production per m2 of a fotovoltaic pannel = 200 W/m2. Then we will transform it in MW and multiply per 720h, so we will get the average production per zone in MWh as the other data in this project"
   ]
  },
  {
   "cell_type": "code",
   "execution_count": 36,
   "id": "bead54a9",
   "metadata": {},
   "outputs": [],
   "source": [
    "reservoir['production'] = reservoir['03_sufr']*720"
   ]
  },
  {
   "cell_type": "code",
   "execution_count": 37,
   "id": "3dc10916",
   "metadata": {},
   "outputs": [
    {
     "data": {
      "text/html": [
       "<div>\n",
       "<style scoped>\n",
       "    .dataframe tbody tr th:only-of-type {\n",
       "        vertical-align: middle;\n",
       "    }\n",
       "\n",
       "    .dataframe tbody tr th {\n",
       "        vertical-align: top;\n",
       "    }\n",
       "\n",
       "    .dataframe thead th {\n",
       "        text-align: right;\n",
       "    }\n",
       "</style>\n",
       "<table border=\"1\" class=\"dataframe\">\n",
       "  <thead>\n",
       "    <tr style=\"text-align: right;\">\n",
       "      <th></th>\n",
       "      <th>zone</th>\n",
       "      <th>surface_km_2</th>\n",
       "      <th>aacc</th>\n",
       "      <th>03_sufr</th>\n",
       "      <th>production</th>\n",
       "    </tr>\n",
       "  </thead>\n",
       "  <tbody>\n",
       "    <tr>\n",
       "      <th>0</th>\n",
       "      <td>MIÑO-SIL</td>\n",
       "      <td>121.82</td>\n",
       "      <td>Galicia</td>\n",
       "      <td>36.546</td>\n",
       "      <td>26313.12</td>\n",
       "    </tr>\n",
       "  </tbody>\n",
       "</table>\n",
       "</div>"
      ],
      "text/plain": [
       "       zone  surface_km_2     aacc  03_sufr  production\n",
       "0  MIÑO-SIL        121.82  Galicia   36.546    26313.12"
      ]
     },
     "execution_count": 37,
     "metadata": {},
     "output_type": "execute_result"
    }
   ],
   "source": [
    "reservoir.sample()"
   ]
  },
  {
   "cell_type": "code",
   "execution_count": 38,
   "id": "6b5af0e6",
   "metadata": {},
   "outputs": [],
   "source": [
    "reservoir.to_csv('data/reservoir.csv',index=False)"
   ]
  },
  {
   "cell_type": "code",
   "execution_count": 40,
   "id": "1114b7bb",
   "metadata": {},
   "outputs": [
    {
     "data": {
      "text/plain": [
       "4"
      ]
     },
     "execution_count": 40,
     "metadata": {},
     "output_type": "execute_result"
    }
   ],
   "source": [
    "1+3"
   ]
  },
  {
   "cell_type": "code",
   "execution_count": null,
   "id": "a3d59615",
   "metadata": {},
   "outputs": [],
   "source": []
  }
 ],
 "metadata": {
  "kernelspec": {
   "display_name": "ironhack",
   "language": "python",
   "name": "ironhack"
  },
  "language_info": {
   "codemirror_mode": {
    "name": "ipython",
    "version": 3
   },
   "file_extension": ".py",
   "mimetype": "text/x-python",
   "name": "python",
   "nbconvert_exporter": "python",
   "pygments_lexer": "ipython3",
   "version": "3.11.5"
  }
 },
 "nbformat": 4,
 "nbformat_minor": 5
}
