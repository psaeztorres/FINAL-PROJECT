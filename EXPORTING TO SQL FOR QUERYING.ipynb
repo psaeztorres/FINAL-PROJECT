{
 "cells": [
  {
   "cell_type": "code",
   "execution_count": 1,
   "id": "eece0719",
   "metadata": {},
   "outputs": [],
   "source": [
    "import pandas as pd\n",
    "import pymysql \n",
    "import sqlalchemy as alch \n",
    "from getpass import getpass\n",
    "from dotenv import load_dotenv\n",
    "import os"
   ]
  },
  {
   "cell_type": "markdown",
   "id": "18cbeb27",
   "metadata": {},
   "source": [
    "#### STEP 1 : importing the databases"
   ]
  },
  {
   "cell_type": "code",
   "execution_count": 46,
   "id": "d6b3da11",
   "metadata": {},
   "outputs": [
    {
     "name": "stderr",
     "output_type": "stream",
     "text": [
      "C:\\Users\\psaez\\AppData\\Local\\Temp\\ipykernel_57512\\2461380447.py:3: DtypeWarning: Columns (6) have mixed types. Specify dtype option on import or set low_memory=False.\n",
      "  global_web = pd.read_csv('data/global_web.csv')\n"
     ]
    }
   ],
   "source": [
    "gen = pd.read_csv('data/gen.csv')\n",
    "demand = pd.read_csv('data/demand.csv')\n",
    "global_web = pd.read_csv('data/global_web.csv')\n",
    "reservoir = pd.read_csv('data/reservoir.csv')\n",
    "spain_global =pd.read_csv('data/spain_global.csv')"
   ]
  },
  {
   "cell_type": "markdown",
   "id": "10f49321",
   "metadata": {},
   "source": [
    "#### STEP 2 : exporting databases to folder MySQL with encoding latin 1"
   ]
  },
  {
   "cell_type": "code",
   "execution_count": 56,
   "id": "af97eb09",
   "metadata": {},
   "outputs": [],
   "source": [
    "spain_global.to_csv('SQL/spain_global_sql.csv', encoding='latin1', index=False)"
   ]
  },
  {
   "cell_type": "code",
   "execution_count": 57,
   "id": "1948554a",
   "metadata": {},
   "outputs": [],
   "source": [
    "reservoir.to_csv('SQL/reservoir_sql.csv', encoding='latin1', index=False)"
   ]
  },
  {
   "cell_type": "code",
   "execution_count": 54,
   "id": "3d30c722",
   "metadata": {},
   "outputs": [],
   "source": [
    "for column in ['project', 'type', 'country', 'unit', 'status', 'owner', 'url']:\n",
    "    global_web[column] = global_web[column].apply(lambda x: x.encode('utf-8').decode('latin-1', 'ignore') if isinstance(x, str) else x)\n",
    "\n",
    "global_web.to_csv('SQL/global_web_sql.csv', encoding='latin-1', index=False)"
   ]
  },
  {
   "cell_type": "code",
   "execution_count": 55,
   "id": "a8bfa10e",
   "metadata": {},
   "outputs": [],
   "source": [
    "global_web.to_csv('SQL/global_web_sql.csv', encoding='latin1', index=False)"
   ]
  },
  {
   "cell_type": "code",
   "execution_count": 58,
   "id": "6172cc08",
   "metadata": {},
   "outputs": [],
   "source": [
    "gen.to_csv('SQL/gen_sql.csv', encoding='latin1', index=False)"
   ]
  },
  {
   "cell_type": "code",
   "execution_count": 59,
   "id": "7cb94c39",
   "metadata": {},
   "outputs": [],
   "source": [
    "demand.to_csv('SQL/demand_sql.csv', encoding='latin1', index=False)"
   ]
  },
  {
   "cell_type": "code",
   "execution_count": null,
   "id": "5942de86",
   "metadata": {},
   "outputs": [],
   "source": []
  },
  {
   "cell_type": "code",
   "execution_count": null,
   "id": "a61638e6",
   "metadata": {},
   "outputs": [],
   "source": []
  },
  {
   "cell_type": "code",
   "execution_count": 63,
   "id": "b9dcbcf4",
   "metadata": {},
   "outputs": [],
   "source": [
    "demand['date'] = pd.to_datetime(demand['date'])"
   ]
  },
  {
   "cell_type": "code",
   "execution_count": 66,
   "id": "1423cf9b",
   "metadata": {},
   "outputs": [
    {
     "data": {
      "text/html": [
       "<div>\n",
       "<style scoped>\n",
       "    .dataframe tbody tr th:only-of-type {\n",
       "        vertical-align: middle;\n",
       "    }\n",
       "\n",
       "    .dataframe tbody tr th {\n",
       "        vertical-align: top;\n",
       "    }\n",
       "\n",
       "    .dataframe thead th {\n",
       "        text-align: right;\n",
       "    }\n",
       "</style>\n",
       "<table border=\"1\" class=\"dataframe\">\n",
       "  <thead>\n",
       "    <tr style=\"text-align: right;\">\n",
       "      <th></th>\n",
       "      <th>Unnamed: 0</th>\n",
       "      <th>class</th>\n",
       "      <th>type</th>\n",
       "      <th>date</th>\n",
       "      <th>value</th>\n",
       "      <th>percentage</th>\n",
       "      <th>aacc</th>\n",
       "      <th>unit</th>\n",
       "    </tr>\n",
       "  </thead>\n",
       "  <tbody>\n",
       "    <tr>\n",
       "      <th>117</th>\n",
       "      <td>117</td>\n",
       "      <td>Demanda</td>\n",
       "      <td>NaN</td>\n",
       "      <td>2020-01-01</td>\n",
       "      <td>17812.714</td>\n",
       "      <td>1</td>\n",
       "      <td>Melilla</td>\n",
       "      <td>MWh</td>\n",
       "    </tr>\n",
       "  </tbody>\n",
       "</table>\n",
       "</div>"
      ],
      "text/plain": [
       "     Unnamed: 0    class  type       date      value  percentage     aacc unit\n",
       "117         117  Demanda   NaN 2020-01-01  17812.714           1  Melilla  MWh"
      ]
     },
     "execution_count": 66,
     "metadata": {},
     "output_type": "execute_result"
    }
   ],
   "source": [
    "demand.sample()"
   ]
  },
  {
   "cell_type": "code",
   "execution_count": 72,
   "id": "e46e7409",
   "metadata": {},
   "outputs": [
    {
     "data": {
      "text/plain": [
       "3419011.8689999995"
      ]
     },
     "execution_count": 72,
     "metadata": {},
     "output_type": "execute_result"
    }
   ],
   "source": [
    "d =demand[(demand['date'].dt.year == 2022) & (demand['aacc'] == 'Cataluña')]['value'].sum()\n",
    "g = gen[(gen['date'].dt.year == 2022) & (gen['aacc'] == 'Cataluña')]['value'].sum()\n",
    "g-d"
   ]
  },
  {
   "cell_type": "code",
   "execution_count": 70,
   "id": "5de9b142",
   "metadata": {},
   "outputs": [],
   "source": [
    "gen['date'] = pd.to_datetime(gen['date'])"
   ]
  },
  {
   "cell_type": "code",
   "execution_count": 75,
   "id": "0b0f5f44",
   "metadata": {},
   "outputs": [
    {
     "data": {
      "text/plain": [
       "81402"
      ]
     },
     "execution_count": 75,
     "metadata": {},
     "output_type": "execute_result"
    }
   ],
   "source": [
    "global_web['type'].count()"
   ]
  },
  {
   "cell_type": "code",
   "execution_count": 76,
   "id": "45178a20",
   "metadata": {},
   "outputs": [
    {
     "data": {
      "text/plain": [
       "(81402, 11)"
      ]
     },
     "execution_count": 76,
     "metadata": {},
     "output_type": "execute_result"
    }
   ],
   "source": [
    "global_web.shape"
   ]
  },
  {
   "cell_type": "code",
   "execution_count": null,
   "id": "07268e44",
   "metadata": {},
   "outputs": [],
   "source": []
  }
 ],
 "metadata": {
  "kernelspec": {
   "display_name": "ironhack",
   "language": "python",
   "name": "ironhack"
  },
  "language_info": {
   "codemirror_mode": {
    "name": "ipython",
    "version": 3
   },
   "file_extension": ".py",
   "mimetype": "text/x-python",
   "name": "python",
   "nbconvert_exporter": "python",
   "pygments_lexer": "ipython3",
   "version": "3.11.5"
  }
 },
 "nbformat": 4,
 "nbformat_minor": 5
}
